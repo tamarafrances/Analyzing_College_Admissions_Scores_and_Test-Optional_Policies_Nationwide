{
 "cells": [
  {
   "cell_type": "markdown",
   "metadata": {},
   "source": [
    "",
    "\n",
    "# Analyzing SAT and ACT Scores and Test-Optional Policies Nationwide"
   ]
  },
  {
   "cell_type": "markdown",
   "metadata": {
    "tags": []
   },
   "source": [
    "## Problem Statement"
   ]
  },
  {
   "cell_type": "markdown",
   "metadata": {},
   "source": [
    "Test-optional college admissions policies greatly expanded in 2020 and 2021 due to the COVID-19 pandemic. This change further complicated the already complex and time-intensive college application process for students and their families.\n",
    "\n",
    "This project aims to increase transparency in the college application process by exploring the following:\n",
    "* the current landscape of test-optional policies among colleges and universities across the U.S\n",
    "* whether there is a relationship between SAT and ACT scores and college acceptance rates\n",
    "* whether there are trends among SAT and ACT scores and a variety of intended college majors.<br>"
   ]
  },
  {
   "cell_type": "markdown",
   "metadata": {},
   "source": [
    "### Contents:\n",
    "- [Background](#Background)\n",
    "- [Data Import & Cleaning](#Data-Import-and-Cleaning)\n",
    "- [Exploratory Data Analysis](#Exploratory-Data-Analysis)\n",
    "- [Data Visualization](#Visualize-the-Data)\n",
    "- [Conclusions and Recommendations](#Conclusions-and-Recommendations)\n",
    "<br>"
   ]
  },
  {
   "cell_type": "markdown",
   "metadata": {},
   "source": [
    "## Background"
   ]
  },
  {
   "cell_type": "markdown",
   "metadata": {},
   "source": [
    "The SAT and ACT are standardized tests that many colleges and universities in the United States require for their admissions process. This score is used along with other materials such as grade point average (GPA) and essay responses to determine whether or not a potential student will be accepted to the university.\n",
    "\n",
    "The SAT has two sections of the test: Evidence-Based Reading and Writing and Math ([*source*](https://www.princetonreview.com/college/sat-sections)). The ACT has 4 sections: English, Mathematics, Reading, and Science, with an additional optional writing section ([*source*](https://www.act.org/content/act/en/products-and-services/the-act/scores/understanding-your-scores.html)). They have different score ranges, which you can read more about on their websites or additional outside sources (a quick Google search will help you understand the scores for each test):\n",
    "* [SAT](https://collegereadiness.collegeboard.org/sat)\n",
    "* [ACT](https://www.act.org/content/act/en.html)\n",
    "\n",
    "Standardized tests have long been a controversial topic for students, administrators, and legislators. Since the 1940's, an increasing number of colleges have been using scores from sudents' performances on tests like the SAT and the ACT as a measure for college readiness and aptitude ([*source*](https://www.minotdailynews.com/news/local-news/2017/04/a-brief-history-of-the-sat-and-act/)). Supporters of these tests argue that these scores can be used as an objective measure to determine college admittance. Opponents of these tests claim that these tests are not accurate measures of students potential or ability and serve as an inequitable barrier to entry. Lately, more and more schools are opting to drop the SAT/ACT requirement for their Fall 2021 applications ([*read more about this here*](https://www.cnn.com/2020/04/14/us/coronavirus-colleges-sat-act-test-trnd/index.html))."
   ]
  },
  {
   "cell_type": "markdown",
   "metadata": {
    "tags": []
   },
   "source": [
    "### Datasets"
   ]
  },
  {
   "cell_type": "markdown",
   "metadata": {},
   "source": [
    "<br><b>sat_2019_by_intended_college_major.csv</b>\n",
    "\n",
    "This data set describes the mean SAT reading/writing scores and the mean SAT math scores by intended college major in 2019. It also outlines the amount of test takers per intended college major, along with the percentage of students who indicated each major out of the total test takers. There are 38 different intended college major groups outlined in this data set.\n",
    "\n",
    "<br><b>sat_act_by_college.csv</b>\n",
    "\n",
    "This data set describes the test-optional policies, policy years, policy details, number of applicants, acceptance rates, and SAT and ACT score ranges for over 400 colleges and universities across the U.S. The data is ordered by acceptance rate.<br><br>"
   ]
  },
  {
   "cell_type": "markdown",
   "metadata": {},
   "source": [
    "### Outside Research"
   ]
  },
  {
   "cell_type": "markdown",
   "metadata": {},
   "source": [
    "<b>Test Optional Information</b><br>\n",
    "Test-optional college admissions policies greatly expanded in 2020 and 2021 due to the COVID-19 pandemic, which further complicated college application process for students and their families ([source](https://www.smithsonianmag.com/innovation/has-pandemic-put-end-to-sat-act-180978167/)). Many colleges now have permanent test-optional policies, while many others instituted policies that will lapse in the next few years ([source](https://www.compassprep.com/college-profiles/)).\n",
    "\n",
    "<b>Additional SAT score information</b><br>\n",
    "Total mean SAT score is not the only score considered. SAT scores vary between intended college majors ([source](https://reports.collegeboard.org/pdf/2019-total-group-sat-suite-assessments-annual-report.pdf)). Students intending to major in STEM and social science-related topics generally have higher total mean SAT Scores. Relative performance is important when incoming students need to present test scores when applying to accelerated math and science programs/tracks or engineering-focused schools ([source](https://www.techpoweredmath.com/what-sat-score-required-engineering/)). More selective schools also tend to have higher requirements for standardized test scores ([source](https://www.compassprep.com/college-profiles/))."
   ]
  },
  {
   "cell_type": "markdown",
   "metadata": {
    "tags": []
   },
   "source": [
    "<br><br>\n",
    "\n",
    "----\n",
    "\n",
    "<br>\n",
    "\n",
    "## Data Import and Cleaning<br>\n"
   ]
  },
  {
   "cell_type": "code",
   "execution_count": 1,
   "metadata": {},
   "outputs": [],
   "source": [
    "# Imports:\n",
    "import pandas as pd\n",
    "import numpy as np\n",
    "import seaborn as sns\n",
    "import matplotlib.pyplot as plt\n",
    "import scipy.stats as stats\n",
    "import os"
   ]
  },
  {
   "cell_type": "markdown",
   "metadata": {},
   "source": [
    "<br><br><b>Import data.</b>"
   ]
  },
  {
   "cell_type": "code",
   "execution_count": 2,
   "metadata": {},
   "outputs": [],
   "source": [
    "sat_major = pd.read_csv('../Data/sat_2019_by_intended_college_major.csv')"
   ]
  },
  {
   "cell_type": "code",
   "execution_count": 3,
   "metadata": {},
   "outputs": [],
   "source": [
    "sat_act_college = pd.read_csv('../Data/sat_act_by_college.csv')"
   ]
  },
  {
   "cell_type": "markdown",
   "metadata": {},
   "source": [
    "<b><br><br>Display the data: print the first 5 rows of each dataframe to your Jupyter notebook. </b>"
   ]
  },
  {
   "cell_type": "code",
   "execution_count": 4,
   "metadata": {},
   "outputs": [
    {
     "data": {
      "text/html": [
       "<div>\n",
       "<style scoped>\n",
       "    .dataframe tbody tr th:only-of-type {\n",
       "        vertical-align: middle;\n",
       "    }\n",
       "\n",
       "    .dataframe tbody tr th {\n",
       "        vertical-align: top;\n",
       "    }\n",
       "\n",
       "    .dataframe thead th {\n",
       "        text-align: right;\n",
       "    }\n",
       "</style>\n",
       "<table border=\"1\" class=\"dataframe\">\n",
       "  <thead>\n",
       "    <tr style=\"text-align: right;\">\n",
       "      <th></th>\n",
       "      <th>IntendedCollegeMajor</th>\n",
       "      <th>TestTakers</th>\n",
       "      <th>Percent</th>\n",
       "      <th>Total</th>\n",
       "      <th>ReadingWriting</th>\n",
       "      <th>Math</th>\n",
       "    </tr>\n",
       "  </thead>\n",
       "  <tbody>\n",
       "    <tr>\n",
       "      <th>0</th>\n",
       "      <td>Agriculture, AgricultureOperations, and Relate...</td>\n",
       "      <td>24,913</td>\n",
       "      <td>1%</td>\n",
       "      <td>977</td>\n",
       "      <td>496</td>\n",
       "      <td>481</td>\n",
       "    </tr>\n",
       "    <tr>\n",
       "      <th>1</th>\n",
       "      <td>Architecture and Related Services</td>\n",
       "      <td>28,988</td>\n",
       "      <td>2%</td>\n",
       "      <td>1047</td>\n",
       "      <td>520</td>\n",
       "      <td>527</td>\n",
       "    </tr>\n",
       "    <tr>\n",
       "      <th>2</th>\n",
       "      <td>Area, Ethnic, Cultural, and Gender Studies</td>\n",
       "      <td>2,629</td>\n",
       "      <td>0%</td>\n",
       "      <td>1040</td>\n",
       "      <td>536</td>\n",
       "      <td>504</td>\n",
       "    </tr>\n",
       "    <tr>\n",
       "      <th>3</th>\n",
       "      <td>Biological and Biomedical Sciences</td>\n",
       "      <td>155,834</td>\n",
       "      <td>8%</td>\n",
       "      <td>1139</td>\n",
       "      <td>572</td>\n",
       "      <td>566</td>\n",
       "    </tr>\n",
       "    <tr>\n",
       "      <th>4</th>\n",
       "      <td>Business, Management, Marketing, and Related S...</td>\n",
       "      <td>221,523</td>\n",
       "      <td>12%</td>\n",
       "      <td>1072</td>\n",
       "      <td>534</td>\n",
       "      <td>537</td>\n",
       "    </tr>\n",
       "  </tbody>\n",
       "</table>\n",
       "</div>"
      ],
      "text/plain": [
       "                                IntendedCollegeMajor TestTakers Percent  \\\n",
       "0  Agriculture, AgricultureOperations, and Relate...     24,913      1%   \n",
       "1                  Architecture and Related Services     28,988      2%   \n",
       "2         Area, Ethnic, Cultural, and Gender Studies      2,629      0%   \n",
       "3                 Biological and Biomedical Sciences    155,834      8%   \n",
       "4  Business, Management, Marketing, and Related S...    221,523     12%   \n",
       "\n",
       "   Total  ReadingWriting  Math  \n",
       "0    977             496   481  \n",
       "1   1047             520   527  \n",
       "2   1040             536   504  \n",
       "3   1139             572   566  \n",
       "4   1072             534   537  "
      ]
     },
     "execution_count": 4,
     "metadata": {},
     "output_type": "execute_result"
    }
   ],
   "source": [
    "sat_major.head(5)"
   ]
  },
  {
   "cell_type": "code",
   "execution_count": 5,
   "metadata": {},
   "outputs": [
    {
     "data": {
      "text/html": [
       "<div>\n",
       "<style scoped>\n",
       "    .dataframe tbody tr th:only-of-type {\n",
       "        vertical-align: middle;\n",
       "    }\n",
       "\n",
       "    .dataframe tbody tr th {\n",
       "        vertical-align: top;\n",
       "    }\n",
       "\n",
       "    .dataframe thead th {\n",
       "        text-align: right;\n",
       "    }\n",
       "</style>\n",
       "<table border=\"1\" class=\"dataframe\">\n",
       "  <thead>\n",
       "    <tr style=\"text-align: right;\">\n",
       "      <th></th>\n",
       "      <th>School</th>\n",
       "      <th>Test Optional?</th>\n",
       "      <th>Applies to Class Year(s)</th>\n",
       "      <th>Policy Details</th>\n",
       "      <th>Number of Applicants</th>\n",
       "      <th>Accept Rate</th>\n",
       "      <th>SAT Total 25th-75th Percentile</th>\n",
       "      <th>ACT Total 25th-75th Percentile</th>\n",
       "    </tr>\n",
       "  </thead>\n",
       "  <tbody>\n",
       "    <tr>\n",
       "      <th>0</th>\n",
       "      <td>Stanford University</td>\n",
       "      <td>Yes</td>\n",
       "      <td>2021</td>\n",
       "      <td>Stanford has adopted a one-year test optional ...</td>\n",
       "      <td>47452</td>\n",
       "      <td>4.3%</td>\n",
       "      <td>1440-1570</td>\n",
       "      <td>32-35</td>\n",
       "    </tr>\n",
       "    <tr>\n",
       "      <th>1</th>\n",
       "      <td>Harvard College</td>\n",
       "      <td>Yes</td>\n",
       "      <td>2021</td>\n",
       "      <td>Harvard has adopted a one-year test optional p...</td>\n",
       "      <td>42749</td>\n",
       "      <td>4.7%</td>\n",
       "      <td>1460-1580</td>\n",
       "      <td>33-35</td>\n",
       "    </tr>\n",
       "    <tr>\n",
       "      <th>2</th>\n",
       "      <td>Princeton University</td>\n",
       "      <td>Yes</td>\n",
       "      <td>2021</td>\n",
       "      <td>Princeton has adopted a one-year test optional...</td>\n",
       "      <td>35370</td>\n",
       "      <td>5.5%</td>\n",
       "      <td>1440-1570</td>\n",
       "      <td>32-35</td>\n",
       "    </tr>\n",
       "    <tr>\n",
       "      <th>3</th>\n",
       "      <td>Columbia University</td>\n",
       "      <td>Yes</td>\n",
       "      <td>2021</td>\n",
       "      <td>Columbia has adopted a one-year test optional ...</td>\n",
       "      <td>40203</td>\n",
       "      <td>5.5%</td>\n",
       "      <td>1450-1560</td>\n",
       "      <td>33-35</td>\n",
       "    </tr>\n",
       "    <tr>\n",
       "      <th>4</th>\n",
       "      <td>Yale University</td>\n",
       "      <td>Yes</td>\n",
       "      <td>2021</td>\n",
       "      <td>Yale has adopted a one-year test optional poli...</td>\n",
       "      <td>36844</td>\n",
       "      <td>6.1%</td>\n",
       "      <td>1460-1570</td>\n",
       "      <td>33-35</td>\n",
       "    </tr>\n",
       "  </tbody>\n",
       "</table>\n",
       "</div>"
      ],
      "text/plain": [
       "                 School Test Optional? Applies to Class Year(s)  \\\n",
       "0   Stanford University            Yes                     2021   \n",
       "1       Harvard College            Yes                     2021   \n",
       "2  Princeton University            Yes                     2021   \n",
       "3   Columbia University            Yes                     2021   \n",
       "4       Yale University            Yes                     2021   \n",
       "\n",
       "                                      Policy Details  Number of Applicants  \\\n",
       "0  Stanford has adopted a one-year test optional ...                 47452   \n",
       "1  Harvard has adopted a one-year test optional p...                 42749   \n",
       "2  Princeton has adopted a one-year test optional...                 35370   \n",
       "3  Columbia has adopted a one-year test optional ...                 40203   \n",
       "4  Yale has adopted a one-year test optional poli...                 36844   \n",
       "\n",
       "  Accept Rate SAT Total 25th-75th Percentile ACT Total 25th-75th Percentile  \n",
       "0        4.3%                      1440-1570                          32-35  \n",
       "1        4.7%                      1460-1580                          33-35  \n",
       "2        5.5%                      1440-1570                          32-35  \n",
       "3        5.5%                      1450-1560                          33-35  \n",
       "4        6.1%                      1460-1570                          33-35  "
      ]
     },
     "execution_count": 5,
     "metadata": {},
     "output_type": "execute_result"
    }
   ],
   "source": [
    "sat_act_college.head(5)"
   ]
  },
  {
   "cell_type": "markdown",
   "metadata": {},
   "source": [
    "<b><br><br>Check for missing values. </b>"
   ]
  },
  {
   "cell_type": "code",
   "execution_count": 6,
   "metadata": {},
   "outputs": [
    {
     "data": {
      "text/plain": [
       "IntendedCollegeMajor    0\n",
       "TestTakers              0\n",
       "Percent                 0\n",
       "Total                   0\n",
       "ReadingWriting          0\n",
       "Math                    0\n",
       "dtype: int64"
      ]
     },
     "execution_count": 6,
     "metadata": {},
     "output_type": "execute_result"
    }
   ],
   "source": [
    "sat_major.isna().sum()"
   ]
  },
  {
   "cell_type": "code",
   "execution_count": 7,
   "metadata": {},
   "outputs": [
    {
     "data": {
      "text/plain": [
       "School                             0\n",
       "Test Optional?                     0\n",
       "Applies to Class Year(s)          26\n",
       "Policy Details                     0\n",
       "Number of Applicants               0\n",
       "Accept Rate                        0\n",
       "SAT Total 25th-75th Percentile     0\n",
       "ACT Total 25th-75th Percentile     0\n",
       "dtype: int64"
      ]
     },
     "execution_count": 7,
     "metadata": {},
     "output_type": "execute_result"
    }
   ],
   "source": [
    "sat_act_college.isna().sum()"
   ]
  },
  {
   "cell_type": "markdown",
   "metadata": {},
   "source": [
    "<b><br><br>Checking for potential issues with the observations. </b>"
   ]
  },
  {
   "cell_type": "code",
   "execution_count": 8,
   "metadata": {},
   "outputs": [
    {
     "name": "stdout",
     "output_type": "stream",
     "text": [
      "597 646\n"
     ]
    }
   ],
   "source": [
    "print(max(sat_major['ReadingWriting']), max(sat_major['Math']))"
   ]
  },
  {
   "cell_type": "code",
   "execution_count": 9,
   "metadata": {},
   "outputs": [
    {
     "name": "stdout",
     "output_type": "stream",
     "text": [
      "990-1230 35-36\n"
     ]
    }
   ],
   "source": [
    "print(max(sat_act_college['SAT Total 25th-75th Percentile']), max(sat_act_college['ACT Total 25th-75th Percentile']))"
   ]
  },
  {
   "cell_type": "code",
   "execution_count": 10,
   "metadata": {},
   "outputs": [
    {
     "data": {
      "text/plain": [
       "Yes         347\n",
       "No           26\n",
       "Yes (TB)     25\n",
       "Yes*         16\n",
       "Yes (TF)      2\n",
       "Name: Test Optional?, dtype: int64"
      ]
     },
     "execution_count": 10,
     "metadata": {},
     "output_type": "execute_result"
    }
   ],
   "source": [
    "sat_act_college['Test Optional?'].value_counts() #the null values in \"Applies to Class Year\" are for schools that are not test optional"
   ]
  },
  {
   "cell_type": "markdown",
   "metadata": {},
   "source": [
    "<b><br><br>Fixing errors. </b>"
   ]
  },
  {
   "cell_type": "code",
   "execution_count": 11,
   "metadata": {},
   "outputs": [
    {
     "data": {
      "text/plain": [
       "2021                        196\n",
       "All / Permanent Policy      158\n",
       "N/A                          26\n",
       "2021 2022 2023               15\n",
       "2021 2022                    11\n",
       "2021 2022 2023 2024           9\n",
       "2021 2022 2023 2024 2025      1\n",
       "Name: Applies to Class Year(s), dtype: int64"
      ]
     },
     "execution_count": 11,
     "metadata": {},
     "output_type": "execute_result"
    }
   ],
   "source": [
    "sat_act_college['Applies to Class Year(s)'].fillna(\"N/A\",inplace=True) #fills null values with \"not applicable\" because the schools do not have a test optional policy\n",
    "sat_act_college['Applies to Class Year(s)'].value_counts()"
   ]
  },
  {
   "cell_type": "markdown",
   "metadata": {},
   "source": [
    "<b><br><br>Displaying the data types of each feature. </b>"
   ]
  },
  {
   "cell_type": "code",
   "execution_count": 12,
   "metadata": {},
   "outputs": [
    {
     "data": {
      "text/plain": [
       "IntendedCollegeMajor    object\n",
       "TestTakers              object\n",
       "Percent                 object\n",
       "Total                    int64\n",
       "ReadingWriting           int64\n",
       "Math                     int64\n",
       "dtype: object"
      ]
     },
     "execution_count": 12,
     "metadata": {},
     "output_type": "execute_result"
    }
   ],
   "source": [
    "sat_major.dtypes"
   ]
  },
  {
   "cell_type": "code",
   "execution_count": 13,
   "metadata": {},
   "outputs": [
    {
     "data": {
      "text/plain": [
       "School                            object\n",
       "Test Optional?                    object\n",
       "Applies to Class Year(s)          object\n",
       "Policy Details                    object\n",
       "Number of Applicants               int64\n",
       "Accept Rate                       object\n",
       "SAT Total 25th-75th Percentile    object\n",
       "ACT Total 25th-75th Percentile    object\n",
       "dtype: object"
      ]
     },
     "execution_count": 13,
     "metadata": {},
     "output_type": "execute_result"
    }
   ],
   "source": [
    "sat_act_college.dtypes"
   ]
  },
  {
   "cell_type": "markdown",
   "metadata": {},
   "source": [
    "<b> <br> <br>Fixing incorrect data types. </b>"
   ]
  },
  {
   "cell_type": "code",
   "execution_count": 14,
   "metadata": {},
   "outputs": [],
   "source": [
    "#changing \"Percent\" to float in sat_major using percent_to_float function\n",
    "def percent_to_float(percent):\n",
    "    flt = float(percent.split('%')[0])\n",
    "    return flt\n",
    "\n",
    "\n",
    "sat_major['Percent'] = sat_major['Percent'].map(percent_to_float)"
   ]
  },
  {
   "cell_type": "code",
   "execution_count": 15,
   "metadata": {},
   "outputs": [
    {
     "data": {
      "text/plain": [
       "IntendedCollegeMajor     object\n",
       "TestTakers               object\n",
       "Percent                 float64\n",
       "Total                     int64\n",
       "ReadingWriting            int64\n",
       "Math                      int64\n",
       "dtype: object"
      ]
     },
     "execution_count": 15,
     "metadata": {},
     "output_type": "execute_result"
    }
   ],
   "source": [
    "sat_major.dtypes"
   ]
  },
  {
   "cell_type": "code",
   "execution_count": 16,
   "metadata": {},
   "outputs": [],
   "source": [
    "#changing \"Accept Rate\" to float in sat_college using percent_to_float function\n",
    "sat_act_college['Accept Rate'] = sat_act_college['Accept Rate'].map(percent_to_float)"
   ]
  },
  {
   "cell_type": "code",
   "execution_count": 17,
   "metadata": {},
   "outputs": [
    {
     "data": {
      "text/plain": [
       "School                             object\n",
       "Test Optional?                     object\n",
       "Applies to Class Year(s)           object\n",
       "Policy Details                     object\n",
       "Number of Applicants                int64\n",
       "Accept Rate                       float64\n",
       "SAT Total 25th-75th Percentile     object\n",
       "ACT Total 25th-75th Percentile     object\n",
       "dtype: object"
      ]
     },
     "execution_count": 17,
     "metadata": {},
     "output_type": "execute_result"
    }
   ],
   "source": [
    "sat_act_college.dtypes"
   ]
  },
  {
   "cell_type": "markdown",
   "metadata": {},
   "source": [
    "<b> <br>Renaming columns for consistency and clarity. </b>"
   ]
  },
  {
   "cell_type": "code",
   "execution_count": 18,
   "metadata": {},
   "outputs": [],
   "source": [
    "sat_major.columns = ['intended_college_major', 'num_sat_takers','percent_of_majors', 'total_score','mean_sat_reading_writing','mean_sat_math']"
   ]
  },
  {
   "cell_type": "code",
   "execution_count": 19,
   "metadata": {},
   "outputs": [],
   "source": [
    "sat_act_college.columns = ['school', 'are_tests_optional','last_class_year', 'policy_details','num_of_applicants','acceptance_rate', 'sat_total_middle_range', 'act_total_middle_range']"
   ]
  },
  {
   "cell_type": "markdown",
   "metadata": {},
   "source": [
    "<b><br>Additional cleaning.</b>"
   ]
  },
  {
   "cell_type": "code",
   "execution_count": 20,
   "metadata": {},
   "outputs": [],
   "source": [
    "#isolating 25th and 75th percentile scores\n",
    "def range_25(string):\n",
    "    if string == '--':\n",
    "        pass\n",
    "    else:\n",
    "        splitstring = string.split('-')[0]\n",
    "        return float(splitstring)\n",
    "    \n",
    "def range_75(string):\n",
    "    if string == '--':\n",
    "        pass\n",
    "    else:\n",
    "        splitstring2 = string.split('-')[1]\n",
    "        return float(splitstring2)"
   ]
  },
  {
   "cell_type": "code",
   "execution_count": 21,
   "metadata": {},
   "outputs": [],
   "source": [
    "#creating new columns with 25th and 75th percentiles\n",
    "\n",
    "sat_act_college['sat_25th_percentile'] = sat_act_college['sat_total_middle_range'].map(range_25)\n",
    "sat_act_college['sat_75th_percentile'] = sat_act_college['sat_total_middle_range'].map(range_75)\n",
    "sat_act_college['act_25th_percentile'] = sat_act_college['act_total_middle_range'].map(range_25)\n",
    "sat_act_college['act_75th_percentile'] = sat_act_college['act_total_middle_range'].map(range_75)"
   ]
  },
  {
   "cell_type": "code",
   "execution_count": 22,
   "metadata": {},
   "outputs": [
    {
     "data": {
      "text/html": [
       "<div>\n",
       "<style scoped>\n",
       "    .dataframe tbody tr th:only-of-type {\n",
       "        vertical-align: middle;\n",
       "    }\n",
       "\n",
       "    .dataframe tbody tr th {\n",
       "        vertical-align: top;\n",
       "    }\n",
       "\n",
       "    .dataframe thead th {\n",
       "        text-align: right;\n",
       "    }\n",
       "</style>\n",
       "<table border=\"1\" class=\"dataframe\">\n",
       "  <thead>\n",
       "    <tr style=\"text-align: right;\">\n",
       "      <th></th>\n",
       "      <th>school</th>\n",
       "      <th>are_tests_optional</th>\n",
       "      <th>last_class_year</th>\n",
       "      <th>policy_details</th>\n",
       "      <th>num_of_applicants</th>\n",
       "      <th>acceptance_rate</th>\n",
       "      <th>sat_total_middle_range</th>\n",
       "      <th>act_total_middle_range</th>\n",
       "      <th>sat_25th_percentile</th>\n",
       "      <th>sat_75th_percentile</th>\n",
       "      <th>act_25th_percentile</th>\n",
       "      <th>act_75th_percentile</th>\n",
       "    </tr>\n",
       "  </thead>\n",
       "  <tbody>\n",
       "    <tr>\n",
       "      <th>0</th>\n",
       "      <td>Stanford University</td>\n",
       "      <td>Yes</td>\n",
       "      <td>2021</td>\n",
       "      <td>Stanford has adopted a one-year test optional ...</td>\n",
       "      <td>47452</td>\n",
       "      <td>4.3</td>\n",
       "      <td>1440-1570</td>\n",
       "      <td>32-35</td>\n",
       "      <td>1440.0</td>\n",
       "      <td>1570.0</td>\n",
       "      <td>32.0</td>\n",
       "      <td>35.0</td>\n",
       "    </tr>\n",
       "    <tr>\n",
       "      <th>1</th>\n",
       "      <td>Harvard College</td>\n",
       "      <td>Yes</td>\n",
       "      <td>2021</td>\n",
       "      <td>Harvard has adopted a one-year test optional p...</td>\n",
       "      <td>42749</td>\n",
       "      <td>4.7</td>\n",
       "      <td>1460-1580</td>\n",
       "      <td>33-35</td>\n",
       "      <td>1460.0</td>\n",
       "      <td>1580.0</td>\n",
       "      <td>33.0</td>\n",
       "      <td>35.0</td>\n",
       "    </tr>\n",
       "    <tr>\n",
       "      <th>2</th>\n",
       "      <td>Princeton University</td>\n",
       "      <td>Yes</td>\n",
       "      <td>2021</td>\n",
       "      <td>Princeton has adopted a one-year test optional...</td>\n",
       "      <td>35370</td>\n",
       "      <td>5.5</td>\n",
       "      <td>1440-1570</td>\n",
       "      <td>32-35</td>\n",
       "      <td>1440.0</td>\n",
       "      <td>1570.0</td>\n",
       "      <td>32.0</td>\n",
       "      <td>35.0</td>\n",
       "    </tr>\n",
       "    <tr>\n",
       "      <th>3</th>\n",
       "      <td>Columbia University</td>\n",
       "      <td>Yes</td>\n",
       "      <td>2021</td>\n",
       "      <td>Columbia has adopted a one-year test optional ...</td>\n",
       "      <td>40203</td>\n",
       "      <td>5.5</td>\n",
       "      <td>1450-1560</td>\n",
       "      <td>33-35</td>\n",
       "      <td>1450.0</td>\n",
       "      <td>1560.0</td>\n",
       "      <td>33.0</td>\n",
       "      <td>35.0</td>\n",
       "    </tr>\n",
       "    <tr>\n",
       "      <th>4</th>\n",
       "      <td>Yale University</td>\n",
       "      <td>Yes</td>\n",
       "      <td>2021</td>\n",
       "      <td>Yale has adopted a one-year test optional poli...</td>\n",
       "      <td>36844</td>\n",
       "      <td>6.1</td>\n",
       "      <td>1460-1570</td>\n",
       "      <td>33-35</td>\n",
       "      <td>1460.0</td>\n",
       "      <td>1570.0</td>\n",
       "      <td>33.0</td>\n",
       "      <td>35.0</td>\n",
       "    </tr>\n",
       "  </tbody>\n",
       "</table>\n",
       "</div>"
      ],
      "text/plain": [
       "                 school are_tests_optional last_class_year  \\\n",
       "0   Stanford University                Yes            2021   \n",
       "1       Harvard College                Yes            2021   \n",
       "2  Princeton University                Yes            2021   \n",
       "3   Columbia University                Yes            2021   \n",
       "4       Yale University                Yes            2021   \n",
       "\n",
       "                                      policy_details  num_of_applicants  \\\n",
       "0  Stanford has adopted a one-year test optional ...              47452   \n",
       "1  Harvard has adopted a one-year test optional p...              42749   \n",
       "2  Princeton has adopted a one-year test optional...              35370   \n",
       "3  Columbia has adopted a one-year test optional ...              40203   \n",
       "4  Yale has adopted a one-year test optional poli...              36844   \n",
       "\n",
       "   acceptance_rate sat_total_middle_range act_total_middle_range  \\\n",
       "0              4.3              1440-1570                  32-35   \n",
       "1              4.7              1460-1580                  33-35   \n",
       "2              5.5              1440-1570                  32-35   \n",
       "3              5.5              1450-1560                  33-35   \n",
       "4              6.1              1460-1570                  33-35   \n",
       "\n",
       "   sat_25th_percentile  sat_75th_percentile  act_25th_percentile  \\\n",
       "0               1440.0               1570.0                 32.0   \n",
       "1               1460.0               1580.0                 33.0   \n",
       "2               1440.0               1570.0                 32.0   \n",
       "3               1450.0               1560.0                 33.0   \n",
       "4               1460.0               1570.0                 33.0   \n",
       "\n",
       "   act_75th_percentile  \n",
       "0                 35.0  \n",
       "1                 35.0  \n",
       "2                 35.0  \n",
       "3                 35.0  \n",
       "4                 35.0  "
      ]
     },
     "execution_count": 22,
     "metadata": {},
     "output_type": "execute_result"
    }
   ],
   "source": [
    "sat_act_college.head(5)"
   ]
  },
  {
   "cell_type": "code",
   "execution_count": 23,
   "metadata": {},
   "outputs": [],
   "source": [
    "sat_act_college['last_class_year'] = sat_act_college['last_class_year'].replace('All / Permanent Policy', 'Permanent') \n",
    "def new_years(string):\n",
    "    newyear = string.split(' ')[-1]\n",
    "    if len(newyear) == 4:\n",
    "        return int(newyear)\n",
    "    else:\n",
    "        return newyear #make this column easier to visualize\n"
   ]
  },
  {
   "cell_type": "code",
   "execution_count": 24,
   "metadata": {
    "tags": []
   },
   "outputs": [],
   "source": [
    "sat_act_college['last_class_year'] = sat_act_college['last_class_year'].map(new_years) #changes total years to last year"
   ]
  },
  {
   "cell_type": "markdown",
   "metadata": {},
   "source": [
    "<br><br>\n",
    "\n",
    "----\n",
    "\n",
    "<br>\n",
    "\n",
    "## Data Dictionary <br>\n"
   ]
  },
  {
   "cell_type": "markdown",
   "metadata": {},
   "source": [
    "|Feature|Type|Dataset|Description|\n",
    "|---|---|---|---|\n",
    "|**intended_college_major**|*object*|College Board SAT Suite 2019|Student self-selected intended college majors, 38 total| \n",
    "|**num_sat_takers**|*object*|College Board SAT Suite 2019|Number of test takers by intended college major|\n",
    "|**percent_of_majors**|*float*|College Board SAT Suite 2019|Percent (%) of test takers with intended college major out of total test takers|\n",
    "|**total_score**|*int*|College Board SAT Suite 2019|Mean total SAT score (out of 1600)|\n",
    "|**mean_sat_reading_writing**|*int*|College Board SAT Suite 2019|Mean reading and writing SAT score (out of 800)|\n",
    "|**mean_sat_math**|*int*|College Board SAT Suite 2019|Mean math SAT score (out of 800)|\n",
    "\n",
    "|Feature|Type|Dataset|Description|\n",
    "|---|---|---|---|\n",
    "|**school**|*object*|Compass Education Group|College or university name| \n",
    "|**are_tests_optional**|*object*|Compass Education Group|Yes or No statement regarding presence of test-optional policies at the school|\n",
    "|**last_class_year**|*object*|Compass Education Group|The last application year the test-optional policy will be in place|\n",
    "|**policy_details**|*object*|Compass Education Group|Details of the test optional policy|\n",
    "|**num_of_applicants**|*int64*|Compass Education Group|Number of applicants to the school|\n",
    "|**acceptance_rate**|*float64*|Compass Education Group|Percent (%) of students accepted among those who applied|\n",
    "|**sat_total_middle_range**|*object*|Compass Education Group|Range of 25th and 75th percentile SAT scores accepted by the school|\n",
    "|**act_total_middle_range**|*object*|Compass Education Group|Range of 25th and 75th percentile ACT scores accepted by the school|\n",
    "|**sat_25th_percentile**|*float64*|Compass Education Group|25th percentile of school's accepted SAT scores|\n",
    "|**sat_75th_percentile**|*float64*|Compass Education Group|75th percentile of school's accepted SAT scores|\n",
    "|**act_25th_percentile**|*float64*|Compass Education Group|25th percentile of school's accepted ACT scores|\n",
    "|**act_75th_percentile**|*float64*|Compass Education Group|75th percentile of school's accepted SAT scores|"
   ]
  },
  {
   "cell_type": "markdown",
   "metadata": {
    "tags": []
   },
   "source": [
    "<br><br>\n",
    "\n",
    "----\n",
    "\n",
    "<br>\n",
    "\n",
    "## Data Dictionary <br>\n"
   ]
  },
  {
   "cell_type": "markdown",
   "metadata": {},
   "source": [
    "<b>Summary statistics. </b>"
   ]
  },
  {
   "cell_type": "code",
   "execution_count": 25,
   "metadata": {},
   "outputs": [
    {
     "data": {
      "text/html": [
       "<div>\n",
       "<style scoped>\n",
       "    .dataframe tbody tr th:only-of-type {\n",
       "        vertical-align: middle;\n",
       "    }\n",
       "\n",
       "    .dataframe tbody tr th {\n",
       "        vertical-align: top;\n",
       "    }\n",
       "\n",
       "    .dataframe thead th {\n",
       "        text-align: right;\n",
       "    }\n",
       "</style>\n",
       "<table border=\"1\" class=\"dataframe\">\n",
       "  <thead>\n",
       "    <tr style=\"text-align: right;\">\n",
       "      <th></th>\n",
       "      <th>percent_of_majors</th>\n",
       "      <th>total_score</th>\n",
       "      <th>mean_sat_reading_writing</th>\n",
       "      <th>mean_sat_math</th>\n",
       "    </tr>\n",
       "  </thead>\n",
       "  <tbody>\n",
       "    <tr>\n",
       "      <th>count</th>\n",
       "      <td>38.000000</td>\n",
       "      <td>38.000000</td>\n",
       "      <td>38.000000</td>\n",
       "      <td>38.000000</td>\n",
       "    </tr>\n",
       "    <tr>\n",
       "      <th>mean</th>\n",
       "      <td>2.578947</td>\n",
       "      <td>1058.500000</td>\n",
       "      <td>535.500000</td>\n",
       "      <td>523.000000</td>\n",
       "    </tr>\n",
       "    <tr>\n",
       "      <th>std</th>\n",
       "      <td>3.997510</td>\n",
       "      <td>82.445969</td>\n",
       "      <td>41.362439</td>\n",
       "      <td>43.386385</td>\n",
       "    </tr>\n",
       "    <tr>\n",
       "      <th>min</th>\n",
       "      <td>0.000000</td>\n",
       "      <td>916.000000</td>\n",
       "      <td>458.000000</td>\n",
       "      <td>456.000000</td>\n",
       "    </tr>\n",
       "    <tr>\n",
       "      <th>25%</th>\n",
       "      <td>0.000000</td>\n",
       "      <td>988.250000</td>\n",
       "      <td>501.250000</td>\n",
       "      <td>486.500000</td>\n",
       "    </tr>\n",
       "    <tr>\n",
       "      <th>50%</th>\n",
       "      <td>1.000000</td>\n",
       "      <td>1066.500000</td>\n",
       "      <td>537.000000</td>\n",
       "      <td>527.000000</td>\n",
       "    </tr>\n",
       "    <tr>\n",
       "      <th>75%</th>\n",
       "      <td>3.500000</td>\n",
       "      <td>1115.500000</td>\n",
       "      <td>569.750000</td>\n",
       "      <td>542.250000</td>\n",
       "    </tr>\n",
       "    <tr>\n",
       "      <th>max</th>\n",
       "      <td>18.000000</td>\n",
       "      <td>1242.000000</td>\n",
       "      <td>597.000000</td>\n",
       "      <td>646.000000</td>\n",
       "    </tr>\n",
       "  </tbody>\n",
       "</table>\n",
       "</div>"
      ],
      "text/plain": [
       "       percent_of_majors  total_score  mean_sat_reading_writing  mean_sat_math\n",
       "count          38.000000    38.000000                 38.000000      38.000000\n",
       "mean            2.578947  1058.500000                535.500000     523.000000\n",
       "std             3.997510    82.445969                 41.362439      43.386385\n",
       "min             0.000000   916.000000                458.000000     456.000000\n",
       "25%             0.000000   988.250000                501.250000     486.500000\n",
       "50%             1.000000  1066.500000                537.000000     527.000000\n",
       "75%             3.500000  1115.500000                569.750000     542.250000\n",
       "max            18.000000  1242.000000                597.000000     646.000000"
      ]
     },
     "execution_count": 25,
     "metadata": {},
     "output_type": "execute_result"
    }
   ],
   "source": [
    "sat_major.describe()"
   ]
  },
  {
   "cell_type": "code",
   "execution_count": 26,
   "metadata": {},
   "outputs": [
    {
     "data": {
      "text/html": [
       "<div>\n",
       "<style scoped>\n",
       "    .dataframe tbody tr th:only-of-type {\n",
       "        vertical-align: middle;\n",
       "    }\n",
       "\n",
       "    .dataframe tbody tr th {\n",
       "        vertical-align: top;\n",
       "    }\n",
       "\n",
       "    .dataframe thead th {\n",
       "        text-align: right;\n",
       "    }\n",
       "</style>\n",
       "<table border=\"1\" class=\"dataframe\">\n",
       "  <thead>\n",
       "    <tr style=\"text-align: right;\">\n",
       "      <th></th>\n",
       "      <th>num_of_applicants</th>\n",
       "      <th>acceptance_rate</th>\n",
       "      <th>sat_25th_percentile</th>\n",
       "      <th>sat_75th_percentile</th>\n",
       "      <th>act_25th_percentile</th>\n",
       "      <th>act_75th_percentile</th>\n",
       "    </tr>\n",
       "  </thead>\n",
       "  <tbody>\n",
       "    <tr>\n",
       "      <th>count</th>\n",
       "      <td>416.000000</td>\n",
       "      <td>416.000000</td>\n",
       "      <td>410.000000</td>\n",
       "      <td>410.000000</td>\n",
       "      <td>410.000000</td>\n",
       "      <td>410.000000</td>\n",
       "    </tr>\n",
       "    <tr>\n",
       "      <th>mean</th>\n",
       "      <td>17481.759615</td>\n",
       "      <td>55.703365</td>\n",
       "      <td>1167.008537</td>\n",
       "      <td>1358.892683</td>\n",
       "      <td>24.712927</td>\n",
       "      <td>29.889756</td>\n",
       "    </tr>\n",
       "    <tr>\n",
       "      <th>std</th>\n",
       "      <td>17447.621897</td>\n",
       "      <td>24.211741</td>\n",
       "      <td>129.586121</td>\n",
       "      <td>111.431443</td>\n",
       "      <td>4.127758</td>\n",
       "      <td>3.154675</td>\n",
       "    </tr>\n",
       "    <tr>\n",
       "      <th>min</th>\n",
       "      <td>211.000000</td>\n",
       "      <td>4.300000</td>\n",
       "      <td>793.000000</td>\n",
       "      <td>1050.000000</td>\n",
       "      <td>15.000000</td>\n",
       "      <td>19.000000</td>\n",
       "    </tr>\n",
       "    <tr>\n",
       "      <th>25%</th>\n",
       "      <td>5313.000000</td>\n",
       "      <td>37.625000</td>\n",
       "      <td>1070.000000</td>\n",
       "      <td>1270.000000</td>\n",
       "      <td>22.000000</td>\n",
       "      <td>28.000000</td>\n",
       "    </tr>\n",
       "    <tr>\n",
       "      <th>50%</th>\n",
       "      <td>11622.000000</td>\n",
       "      <td>61.300000</td>\n",
       "      <td>1150.000000</td>\n",
       "      <td>1350.000000</td>\n",
       "      <td>24.000000</td>\n",
       "      <td>30.000000</td>\n",
       "    </tr>\n",
       "    <tr>\n",
       "      <th>75%</th>\n",
       "      <td>23599.750000</td>\n",
       "      <td>74.225000</td>\n",
       "      <td>1250.000000</td>\n",
       "      <td>1440.000000</td>\n",
       "      <td>28.000000</td>\n",
       "      <td>32.000000</td>\n",
       "    </tr>\n",
       "    <tr>\n",
       "      <th>max</th>\n",
       "      <td>111322.000000</td>\n",
       "      <td>99.900000</td>\n",
       "      <td>1530.000000</td>\n",
       "      <td>1580.000000</td>\n",
       "      <td>35.000000</td>\n",
       "      <td>36.000000</td>\n",
       "    </tr>\n",
       "  </tbody>\n",
       "</table>\n",
       "</div>"
      ],
      "text/plain": [
       "       num_of_applicants  acceptance_rate  sat_25th_percentile  \\\n",
       "count         416.000000       416.000000           410.000000   \n",
       "mean        17481.759615        55.703365          1167.008537   \n",
       "std         17447.621897        24.211741           129.586121   \n",
       "min           211.000000         4.300000           793.000000   \n",
       "25%          5313.000000        37.625000          1070.000000   \n",
       "50%         11622.000000        61.300000          1150.000000   \n",
       "75%         23599.750000        74.225000          1250.000000   \n",
       "max        111322.000000        99.900000          1530.000000   \n",
       "\n",
       "       sat_75th_percentile  act_25th_percentile  act_75th_percentile  \n",
       "count           410.000000           410.000000           410.000000  \n",
       "mean           1358.892683            24.712927            29.889756  \n",
       "std             111.431443             4.127758             3.154675  \n",
       "min            1050.000000            15.000000            19.000000  \n",
       "25%            1270.000000            22.000000            28.000000  \n",
       "50%            1350.000000            24.000000            30.000000  \n",
       "75%            1440.000000            28.000000            32.000000  \n",
       "max            1580.000000            35.000000            36.000000  "
      ]
     },
     "execution_count": 26,
     "metadata": {},
     "output_type": "execute_result"
    }
   ],
   "source": [
    "sat_act_college.describe()"
   ]
  },
  {
   "cell_type": "markdown",
   "metadata": {
    "tags": []
   },
   "source": [
    "<br><br>\n",
    "\n",
    "----\n",
    "\n",
    "<br>\n",
    "\n",
    "## Investigating trends<br>\n"
   ]
  },
  {
   "cell_type": "markdown",
   "metadata": {},
   "source": [
    "<b>\n",
    "    \n",
    "### sat_2019_by_intended_college_major \n",
    "\n",
    "</b>"
   ]
  },
  {
   "cell_type": "code",
   "execution_count": 27,
   "metadata": {},
   "outputs": [
    {
     "data": {
      "text/html": [
       "<div>\n",
       "<style scoped>\n",
       "    .dataframe tbody tr th:only-of-type {\n",
       "        vertical-align: middle;\n",
       "    }\n",
       "\n",
       "    .dataframe tbody tr th {\n",
       "        vertical-align: top;\n",
       "    }\n",
       "\n",
       "    .dataframe thead th {\n",
       "        text-align: right;\n",
       "    }\n",
       "</style>\n",
       "<table border=\"1\" class=\"dataframe\">\n",
       "  <thead>\n",
       "    <tr style=\"text-align: right;\">\n",
       "      <th></th>\n",
       "      <th>intended_college_major</th>\n",
       "      <th>num_sat_takers</th>\n",
       "      <th>percent_of_majors</th>\n",
       "      <th>total_score</th>\n",
       "      <th>mean_sat_reading_writing</th>\n",
       "      <th>mean_sat_math</th>\n",
       "    </tr>\n",
       "  </thead>\n",
       "  <tbody>\n",
       "    <tr>\n",
       "      <th>0</th>\n",
       "      <td>Agriculture, AgricultureOperations, and Relate...</td>\n",
       "      <td>24,913</td>\n",
       "      <td>1.0</td>\n",
       "      <td>977</td>\n",
       "      <td>496</td>\n",
       "      <td>481</td>\n",
       "    </tr>\n",
       "  </tbody>\n",
       "</table>\n",
       "</div>"
      ],
      "text/plain": [
       "                              intended_college_major num_sat_takers  \\\n",
       "0  Agriculture, AgricultureOperations, and Relate...         24,913   \n",
       "\n",
       "   percent_of_majors  total_score  mean_sat_reading_writing  mean_sat_math  \n",
       "0                1.0          977                       496            481  "
      ]
     },
     "execution_count": 27,
     "metadata": {},
     "output_type": "execute_result"
    }
   ],
   "source": [
    "sat_major.head(1)"
   ]
  },
  {
   "cell_type": "code",
   "execution_count": 28,
   "metadata": {},
   "outputs": [
    {
     "data": {
      "text/html": [
       "<div>\n",
       "<style scoped>\n",
       "    .dataframe tbody tr th:only-of-type {\n",
       "        vertical-align: middle;\n",
       "    }\n",
       "\n",
       "    .dataframe tbody tr th {\n",
       "        vertical-align: top;\n",
       "    }\n",
       "\n",
       "    .dataframe thead th {\n",
       "        text-align: right;\n",
       "    }\n",
       "</style>\n",
       "<table border=\"1\" class=\"dataframe\">\n",
       "  <thead>\n",
       "    <tr style=\"text-align: right;\">\n",
       "      <th></th>\n",
       "      <th>intended_college_major</th>\n",
       "      <th>num_sat_takers</th>\n",
       "      <th>percent_of_majors</th>\n",
       "      <th>total_score</th>\n",
       "      <th>mean_sat_reading_writing</th>\n",
       "      <th>mean_sat_math</th>\n",
       "    </tr>\n",
       "  </thead>\n",
       "  <tbody>\n",
       "    <tr>\n",
       "      <th>19</th>\n",
       "      <td>Mathematics and Statistics</td>\n",
       "      <td>16,508</td>\n",
       "      <td>1.0</td>\n",
       "      <td>1242</td>\n",
       "      <td>597</td>\n",
       "      <td>646</td>\n",
       "    </tr>\n",
       "    <tr>\n",
       "      <th>27</th>\n",
       "      <td>Physical Sciences</td>\n",
       "      <td>26,318</td>\n",
       "      <td>1.0</td>\n",
       "      <td>1203</td>\n",
       "      <td>597</td>\n",
       "      <td>606</td>\n",
       "    </tr>\n",
       "    <tr>\n",
       "      <th>32</th>\n",
       "      <td>Social Sciences</td>\n",
       "      <td>33,356</td>\n",
       "      <td>2.0</td>\n",
       "      <td>1164</td>\n",
       "      <td>594</td>\n",
       "      <td>570</td>\n",
       "    </tr>\n",
       "    <tr>\n",
       "      <th>6</th>\n",
       "      <td>Computer and Information Sciences and Support ...</td>\n",
       "      <td>79,736</td>\n",
       "      <td>4.0</td>\n",
       "      <td>1156</td>\n",
       "      <td>571</td>\n",
       "      <td>585</td>\n",
       "    </tr>\n",
       "    <tr>\n",
       "      <th>22</th>\n",
       "      <td>Multi/Interdisciplinary Studies</td>\n",
       "      <td>2,979</td>\n",
       "      <td>0.0</td>\n",
       "      <td>1155</td>\n",
       "      <td>581</td>\n",
       "      <td>574</td>\n",
       "    </tr>\n",
       "  </tbody>\n",
       "</table>\n",
       "</div>"
      ],
      "text/plain": [
       "                               intended_college_major num_sat_takers  \\\n",
       "19                         Mathematics and Statistics         16,508   \n",
       "27                                  Physical Sciences         26,318   \n",
       "32                                    Social Sciences         33,356   \n",
       "6   Computer and Information Sciences and Support ...         79,736   \n",
       "22                    Multi/Interdisciplinary Studies          2,979   \n",
       "\n",
       "    percent_of_majors  total_score  mean_sat_reading_writing  mean_sat_math  \n",
       "19                1.0         1242                       597            646  \n",
       "27                1.0         1203                       597            606  \n",
       "32                2.0         1164                       594            570  \n",
       "6                 4.0         1156                       571            585  \n",
       "22                0.0         1155                       581            574  "
      ]
     },
     "execution_count": 28,
     "metadata": {},
     "output_type": "execute_result"
    }
   ],
   "source": [
    "sat_major.sort_values(by = 'total_score', ascending=False).head() #sorts dataframe by total score and takes the top 5 highest"
   ]
  },
  {
   "cell_type": "markdown",
   "metadata": {},
   "source": [
    "The majors with the top 5 highest total SAT scores are Math and Stats, Physical Sciences (e.g. chemistry, physics, etc.), Social Sciences (e.g. sociology, political science, etc.), Computer and Information Sciences and Support Services, and Multi/Interdisciplinary Studies (personalized programs).<br><br>"
   ]
  },
  {
   "cell_type": "code",
   "execution_count": 29,
   "metadata": {},
   "outputs": [
    {
     "data": {
      "text/html": [
       "<div>\n",
       "<style scoped>\n",
       "    .dataframe tbody tr th:only-of-type {\n",
       "        vertical-align: middle;\n",
       "    }\n",
       "\n",
       "    .dataframe tbody tr th {\n",
       "        vertical-align: top;\n",
       "    }\n",
       "\n",
       "    .dataframe thead th {\n",
       "        text-align: right;\n",
       "    }\n",
       "</style>\n",
       "<table border=\"1\" class=\"dataframe\">\n",
       "  <thead>\n",
       "    <tr style=\"text-align: right;\">\n",
       "      <th></th>\n",
       "      <th>intended_college_major</th>\n",
       "      <th>num_sat_takers</th>\n",
       "      <th>percent_of_majors</th>\n",
       "      <th>total_score</th>\n",
       "      <th>mean_sat_reading_writing</th>\n",
       "      <th>mean_sat_math</th>\n",
       "    </tr>\n",
       "  </thead>\n",
       "  <tbody>\n",
       "    <tr>\n",
       "      <th>19</th>\n",
       "      <td>Mathematics and Statistics</td>\n",
       "      <td>16,508</td>\n",
       "      <td>1.0</td>\n",
       "      <td>1242</td>\n",
       "      <td>597</td>\n",
       "      <td>646</td>\n",
       "    </tr>\n",
       "    <tr>\n",
       "      <th>27</th>\n",
       "      <td>Physical Sciences</td>\n",
       "      <td>26,318</td>\n",
       "      <td>1.0</td>\n",
       "      <td>1203</td>\n",
       "      <td>597</td>\n",
       "      <td>606</td>\n",
       "    </tr>\n",
       "    <tr>\n",
       "      <th>32</th>\n",
       "      <td>Social Sciences</td>\n",
       "      <td>33,356</td>\n",
       "      <td>2.0</td>\n",
       "      <td>1164</td>\n",
       "      <td>594</td>\n",
       "      <td>570</td>\n",
       "    </tr>\n",
       "    <tr>\n",
       "      <th>11</th>\n",
       "      <td>English Language and Literature/Letters</td>\n",
       "      <td>16,233</td>\n",
       "      <td>1.0</td>\n",
       "      <td>1119</td>\n",
       "      <td>585</td>\n",
       "      <td>533</td>\n",
       "    </tr>\n",
       "    <tr>\n",
       "      <th>17</th>\n",
       "      <td>Liberal Arts and Sciences, General Studies and...</td>\n",
       "      <td>8,611</td>\n",
       "      <td>0.0</td>\n",
       "      <td>1140</td>\n",
       "      <td>584</td>\n",
       "      <td>556</td>\n",
       "    </tr>\n",
       "  </tbody>\n",
       "</table>\n",
       "</div>"
      ],
      "text/plain": [
       "                               intended_college_major num_sat_takers  \\\n",
       "19                         Mathematics and Statistics         16,508   \n",
       "27                                  Physical Sciences         26,318   \n",
       "32                                    Social Sciences         33,356   \n",
       "11            English Language and Literature/Letters         16,233   \n",
       "17  Liberal Arts and Sciences, General Studies and...          8,611   \n",
       "\n",
       "    percent_of_majors  total_score  mean_sat_reading_writing  mean_sat_math  \n",
       "19                1.0         1242                       597            646  \n",
       "27                1.0         1203                       597            606  \n",
       "32                2.0         1164                       594            570  \n",
       "11                1.0         1119                       585            533  \n",
       "17                0.0         1140                       584            556  "
      ]
     },
     "execution_count": 29,
     "metadata": {},
     "output_type": "execute_result"
    }
   ],
   "source": [
    "sat_major.sort_values(by = 'mean_sat_reading_writing', ascending=False).head() #sorts dataframe by mean reading/writing score and takes the top 5 highest"
   ]
  },
  {
   "cell_type": "markdown",
   "metadata": {},
   "source": [
    "The majors with the top 5 highest reading and writing SAT scores are Math and Stats, Physical Sciences (e.g. chemistry, physics, etc.), Social Sciences (e.g. sociology, political science, etc.), English Language and Literature/Letters, and Liberal Arts and Sciences, General Studies and Humanities. <br><br>"
   ]
  },
  {
   "cell_type": "code",
   "execution_count": 30,
   "metadata": {},
   "outputs": [
    {
     "data": {
      "text/html": [
       "<div>\n",
       "<style scoped>\n",
       "    .dataframe tbody tr th:only-of-type {\n",
       "        vertical-align: middle;\n",
       "    }\n",
       "\n",
       "    .dataframe tbody tr th {\n",
       "        vertical-align: top;\n",
       "    }\n",
       "\n",
       "    .dataframe thead th {\n",
       "        text-align: right;\n",
       "    }\n",
       "</style>\n",
       "<table border=\"1\" class=\"dataframe\">\n",
       "  <thead>\n",
       "    <tr style=\"text-align: right;\">\n",
       "      <th></th>\n",
       "      <th>intended_college_major</th>\n",
       "      <th>num_sat_takers</th>\n",
       "      <th>percent_of_majors</th>\n",
       "      <th>total_score</th>\n",
       "      <th>mean_sat_reading_writing</th>\n",
       "      <th>mean_sat_math</th>\n",
       "    </tr>\n",
       "  </thead>\n",
       "  <tbody>\n",
       "    <tr>\n",
       "      <th>19</th>\n",
       "      <td>Mathematics and Statistics</td>\n",
       "      <td>16,508</td>\n",
       "      <td>1.0</td>\n",
       "      <td>1242</td>\n",
       "      <td>597</td>\n",
       "      <td>646</td>\n",
       "    </tr>\n",
       "    <tr>\n",
       "      <th>27</th>\n",
       "      <td>Physical Sciences</td>\n",
       "      <td>26,318</td>\n",
       "      <td>1.0</td>\n",
       "      <td>1203</td>\n",
       "      <td>597</td>\n",
       "      <td>606</td>\n",
       "    </tr>\n",
       "    <tr>\n",
       "      <th>6</th>\n",
       "      <td>Computer and Information Sciences and Support ...</td>\n",
       "      <td>79,736</td>\n",
       "      <td>4.0</td>\n",
       "      <td>1156</td>\n",
       "      <td>571</td>\n",
       "      <td>585</td>\n",
       "    </tr>\n",
       "    <tr>\n",
       "      <th>9</th>\n",
       "      <td>Engineering</td>\n",
       "      <td>194,127</td>\n",
       "      <td>11.0</td>\n",
       "      <td>1139</td>\n",
       "      <td>559</td>\n",
       "      <td>581</td>\n",
       "    </tr>\n",
       "    <tr>\n",
       "      <th>22</th>\n",
       "      <td>Multi/Interdisciplinary Studies</td>\n",
       "      <td>2,979</td>\n",
       "      <td>0.0</td>\n",
       "      <td>1155</td>\n",
       "      <td>581</td>\n",
       "      <td>574</td>\n",
       "    </tr>\n",
       "  </tbody>\n",
       "</table>\n",
       "</div>"
      ],
      "text/plain": [
       "                               intended_college_major num_sat_takers  \\\n",
       "19                         Mathematics and Statistics         16,508   \n",
       "27                                  Physical Sciences         26,318   \n",
       "6   Computer and Information Sciences and Support ...         79,736   \n",
       "9                                         Engineering        194,127   \n",
       "22                    Multi/Interdisciplinary Studies          2,979   \n",
       "\n",
       "    percent_of_majors  total_score  mean_sat_reading_writing  mean_sat_math  \n",
       "19                1.0         1242                       597            646  \n",
       "27                1.0         1203                       597            606  \n",
       "6                 4.0         1156                       571            585  \n",
       "9                11.0         1139                       559            581  \n",
       "22                0.0         1155                       581            574  "
      ]
     },
     "execution_count": 30,
     "metadata": {},
     "output_type": "execute_result"
    }
   ],
   "source": [
    "sat_major.sort_values(by = 'mean_sat_math', ascending=False).head() #sorts dataframe by mean math score and takes the top 5 highest"
   ]
  },
  {
   "cell_type": "markdown",
   "metadata": {},
   "source": [
    "**The majors with the top 5 highest math SAT scores are Math and Stats, Physical Sciences (e.g. chemistry, physics, etc.), Computer and Information Sciences and Support Services, Engineering, and Multi/Interdisciplinary Studies (personalized programs).** <br> <br> "
   ]
  },
  {
   "cell_type": "markdown",
   "metadata": {},
   "source": [
    "<b>\n",
    "    \n",
    "### sat_act_college \n",
    "\n",
    "</b>"
   ]
  },
  {
   "cell_type": "code",
   "execution_count": 31,
   "metadata": {},
   "outputs": [
    {
     "data": {
      "text/html": [
       "<div>\n",
       "<style scoped>\n",
       "    .dataframe tbody tr th:only-of-type {\n",
       "        vertical-align: middle;\n",
       "    }\n",
       "\n",
       "    .dataframe tbody tr th {\n",
       "        vertical-align: top;\n",
       "    }\n",
       "\n",
       "    .dataframe thead th {\n",
       "        text-align: right;\n",
       "    }\n",
       "</style>\n",
       "<table border=\"1\" class=\"dataframe\">\n",
       "  <thead>\n",
       "    <tr style=\"text-align: right;\">\n",
       "      <th></th>\n",
       "      <th>school</th>\n",
       "      <th>are_tests_optional</th>\n",
       "      <th>last_class_year</th>\n",
       "      <th>policy_details</th>\n",
       "      <th>num_of_applicants</th>\n",
       "      <th>acceptance_rate</th>\n",
       "      <th>sat_total_middle_range</th>\n",
       "      <th>act_total_middle_range</th>\n",
       "      <th>sat_25th_percentile</th>\n",
       "      <th>sat_75th_percentile</th>\n",
       "      <th>act_25th_percentile</th>\n",
       "      <th>act_75th_percentile</th>\n",
       "    </tr>\n",
       "  </thead>\n",
       "  <tbody>\n",
       "    <tr>\n",
       "      <th>0</th>\n",
       "      <td>Stanford University</td>\n",
       "      <td>Yes</td>\n",
       "      <td>2021</td>\n",
       "      <td>Stanford has adopted a one-year test optional ...</td>\n",
       "      <td>47452</td>\n",
       "      <td>4.3</td>\n",
       "      <td>1440-1570</td>\n",
       "      <td>32-35</td>\n",
       "      <td>1440.0</td>\n",
       "      <td>1570.0</td>\n",
       "      <td>32.0</td>\n",
       "      <td>35.0</td>\n",
       "    </tr>\n",
       "    <tr>\n",
       "      <th>1</th>\n",
       "      <td>Harvard College</td>\n",
       "      <td>Yes</td>\n",
       "      <td>2021</td>\n",
       "      <td>Harvard has adopted a one-year test optional p...</td>\n",
       "      <td>42749</td>\n",
       "      <td>4.7</td>\n",
       "      <td>1460-1580</td>\n",
       "      <td>33-35</td>\n",
       "      <td>1460.0</td>\n",
       "      <td>1580.0</td>\n",
       "      <td>33.0</td>\n",
       "      <td>35.0</td>\n",
       "    </tr>\n",
       "    <tr>\n",
       "      <th>2</th>\n",
       "      <td>Princeton University</td>\n",
       "      <td>Yes</td>\n",
       "      <td>2021</td>\n",
       "      <td>Princeton has adopted a one-year test optional...</td>\n",
       "      <td>35370</td>\n",
       "      <td>5.5</td>\n",
       "      <td>1440-1570</td>\n",
       "      <td>32-35</td>\n",
       "      <td>1440.0</td>\n",
       "      <td>1570.0</td>\n",
       "      <td>32.0</td>\n",
       "      <td>35.0</td>\n",
       "    </tr>\n",
       "  </tbody>\n",
       "</table>\n",
       "</div>"
      ],
      "text/plain": [
       "                 school are_tests_optional last_class_year  \\\n",
       "0   Stanford University                Yes            2021   \n",
       "1       Harvard College                Yes            2021   \n",
       "2  Princeton University                Yes            2021   \n",
       "\n",
       "                                      policy_details  num_of_applicants  \\\n",
       "0  Stanford has adopted a one-year test optional ...              47452   \n",
       "1  Harvard has adopted a one-year test optional p...              42749   \n",
       "2  Princeton has adopted a one-year test optional...              35370   \n",
       "\n",
       "   acceptance_rate sat_total_middle_range act_total_middle_range  \\\n",
       "0              4.3              1440-1570                  32-35   \n",
       "1              4.7              1460-1580                  33-35   \n",
       "2              5.5              1440-1570                  32-35   \n",
       "\n",
       "   sat_25th_percentile  sat_75th_percentile  act_25th_percentile  \\\n",
       "0               1440.0               1570.0                 32.0   \n",
       "1               1460.0               1580.0                 33.0   \n",
       "2               1440.0               1570.0                 32.0   \n",
       "\n",
       "   act_75th_percentile  \n",
       "0                 35.0  \n",
       "1                 35.0  \n",
       "2                 35.0  "
      ]
     },
     "execution_count": 31,
     "metadata": {},
     "output_type": "execute_result"
    }
   ],
   "source": [
    "sat_act_college.head(3)"
   ]
  },
  {
   "cell_type": "code",
   "execution_count": 32,
   "metadata": {},
   "outputs": [
    {
     "data": {
      "text/html": [
       "<div>\n",
       "<style scoped>\n",
       "    .dataframe tbody tr th:only-of-type {\n",
       "        vertical-align: middle;\n",
       "    }\n",
       "\n",
       "    .dataframe tbody tr th {\n",
       "        vertical-align: top;\n",
       "    }\n",
       "\n",
       "    .dataframe thead th {\n",
       "        text-align: right;\n",
       "    }\n",
       "</style>\n",
       "<table border=\"1\" class=\"dataframe\">\n",
       "  <thead>\n",
       "    <tr style=\"text-align: right;\">\n",
       "      <th></th>\n",
       "      <th>school</th>\n",
       "      <th>are_tests_optional</th>\n",
       "      <th>last_class_year</th>\n",
       "      <th>policy_details</th>\n",
       "      <th>num_of_applicants</th>\n",
       "      <th>acceptance_rate</th>\n",
       "      <th>sat_total_middle_range</th>\n",
       "      <th>act_total_middle_range</th>\n",
       "      <th>sat_25th_percentile</th>\n",
       "      <th>sat_75th_percentile</th>\n",
       "      <th>act_25th_percentile</th>\n",
       "      <th>act_75th_percentile</th>\n",
       "    </tr>\n",
       "  </thead>\n",
       "  <tbody>\n",
       "    <tr>\n",
       "      <th>5</th>\n",
       "      <td>California Institute of Technology</td>\n",
       "      <td>Yes (TB)</td>\n",
       "      <td>2022</td>\n",
       "      <td>CalTech has adopted a two-year Test Blind poli...</td>\n",
       "      <td>8367</td>\n",
       "      <td>6.4</td>\n",
       "      <td>1530-1560</td>\n",
       "      <td>35-36</td>\n",
       "      <td>1530.0</td>\n",
       "      <td>1560.0</td>\n",
       "      <td>35.0</td>\n",
       "      <td>36.0</td>\n",
       "    </tr>\n",
       "    <tr>\n",
       "      <th>6</th>\n",
       "      <td>Massachusetts Institute of Technology</td>\n",
       "      <td>Yes</td>\n",
       "      <td>2021</td>\n",
       "      <td>MIT has adopted a one-year test optional polic...</td>\n",
       "      <td>21706</td>\n",
       "      <td>6.7</td>\n",
       "      <td>1500-1570</td>\n",
       "      <td>34-36</td>\n",
       "      <td>1500.0</td>\n",
       "      <td>1570.0</td>\n",
       "      <td>34.0</td>\n",
       "      <td>36.0</td>\n",
       "    </tr>\n",
       "    <tr>\n",
       "      <th>31</th>\n",
       "      <td>Harvey Mudd College</td>\n",
       "      <td>Yes</td>\n",
       "      <td>2021</td>\n",
       "      <td>Harvey Mudd has adopted a one-year test option...</td>\n",
       "      <td>4045</td>\n",
       "      <td>13.7</td>\n",
       "      <td>1490-1570</td>\n",
       "      <td>33-35</td>\n",
       "      <td>1490.0</td>\n",
       "      <td>1570.0</td>\n",
       "      <td>33.0</td>\n",
       "      <td>35.0</td>\n",
       "    </tr>\n",
       "    <tr>\n",
       "      <th>8</th>\n",
       "      <td>University of Chicago</td>\n",
       "      <td>Yes</td>\n",
       "      <td>Permanent</td>\n",
       "      <td>UChicago offers a test optional policy which a...</td>\n",
       "      <td>32283</td>\n",
       "      <td>7.3</td>\n",
       "      <td>1490-1570</td>\n",
       "      <td>33-35</td>\n",
       "      <td>1490.0</td>\n",
       "      <td>1570.0</td>\n",
       "      <td>33.0</td>\n",
       "      <td>35.0</td>\n",
       "    </tr>\n",
       "    <tr>\n",
       "      <th>35</th>\n",
       "      <td>Washington University in St. Louis</td>\n",
       "      <td>Yes</td>\n",
       "      <td>2021</td>\n",
       "      <td>Washington University in St. Louis has adopted...</td>\n",
       "      <td>31320</td>\n",
       "      <td>15.0</td>\n",
       "      <td>1470-1570</td>\n",
       "      <td>32-35</td>\n",
       "      <td>1470.0</td>\n",
       "      <td>1570.0</td>\n",
       "      <td>32.0</td>\n",
       "      <td>35.0</td>\n",
       "    </tr>\n",
       "  </tbody>\n",
       "</table>\n",
       "</div>"
      ],
      "text/plain": [
       "                                   school are_tests_optional last_class_year  \\\n",
       "5      California Institute of Technology           Yes (TB)            2022   \n",
       "6   Massachusetts Institute of Technology                Yes            2021   \n",
       "31                    Harvey Mudd College                Yes            2021   \n",
       "8                   University of Chicago                Yes       Permanent   \n",
       "35     Washington University in St. Louis                Yes            2021   \n",
       "\n",
       "                                       policy_details  num_of_applicants  \\\n",
       "5   CalTech has adopted a two-year Test Blind poli...               8367   \n",
       "6   MIT has adopted a one-year test optional polic...              21706   \n",
       "31  Harvey Mudd has adopted a one-year test option...               4045   \n",
       "8   UChicago offers a test optional policy which a...              32283   \n",
       "35  Washington University in St. Louis has adopted...              31320   \n",
       "\n",
       "    acceptance_rate sat_total_middle_range act_total_middle_range  \\\n",
       "5               6.4              1530-1560                  35-36   \n",
       "6               6.7              1500-1570                  34-36   \n",
       "31             13.7              1490-1570                  33-35   \n",
       "8               7.3              1490-1570                  33-35   \n",
       "35             15.0              1470-1570                  32-35   \n",
       "\n",
       "    sat_25th_percentile  sat_75th_percentile  act_25th_percentile  \\\n",
       "5                1530.0               1560.0                 35.0   \n",
       "6                1500.0               1570.0                 34.0   \n",
       "31               1490.0               1570.0                 33.0   \n",
       "8                1490.0               1570.0                 33.0   \n",
       "35               1470.0               1570.0                 32.0   \n",
       "\n",
       "    act_75th_percentile  \n",
       "5                  36.0  \n",
       "6                  36.0  \n",
       "31                 35.0  \n",
       "8                  35.0  \n",
       "35                 35.0  "
      ]
     },
     "execution_count": 32,
     "metadata": {},
     "output_type": "execute_result"
    }
   ],
   "source": [
    "sat_act_college.sort_values(by = 'sat_25th_percentile', ascending=False).head() #sorts dataframe by mean reading/writing score and takes the top 5 highest"
   ]
  },
  {
   "cell_type": "markdown",
   "metadata": {},
   "source": [
    "**Top 5 schools based on SAT 25th percentile: Cal Tech, MIT, Harvey Mudd, University of Chicago, and Wash U St. Louis.** <br><br>"
   ]
  },
  {
   "cell_type": "code",
   "execution_count": 33,
   "metadata": {},
   "outputs": [
    {
     "data": {
      "text/html": [
       "<div>\n",
       "<style scoped>\n",
       "    .dataframe tbody tr th:only-of-type {\n",
       "        vertical-align: middle;\n",
       "    }\n",
       "\n",
       "    .dataframe tbody tr th {\n",
       "        vertical-align: top;\n",
       "    }\n",
       "\n",
       "    .dataframe thead th {\n",
       "        text-align: right;\n",
       "    }\n",
       "</style>\n",
       "<table border=\"1\" class=\"dataframe\">\n",
       "  <thead>\n",
       "    <tr style=\"text-align: right;\">\n",
       "      <th></th>\n",
       "      <th>school</th>\n",
       "      <th>are_tests_optional</th>\n",
       "      <th>last_class_year</th>\n",
       "      <th>policy_details</th>\n",
       "      <th>num_of_applicants</th>\n",
       "      <th>acceptance_rate</th>\n",
       "      <th>sat_total_middle_range</th>\n",
       "      <th>act_total_middle_range</th>\n",
       "      <th>sat_25th_percentile</th>\n",
       "      <th>sat_75th_percentile</th>\n",
       "      <th>act_25th_percentile</th>\n",
       "      <th>act_75th_percentile</th>\n",
       "    </tr>\n",
       "  </thead>\n",
       "  <tbody>\n",
       "    <tr>\n",
       "      <th>1</th>\n",
       "      <td>Harvard College</td>\n",
       "      <td>Yes</td>\n",
       "      <td>2021</td>\n",
       "      <td>Harvard has adopted a one-year test optional p...</td>\n",
       "      <td>42749</td>\n",
       "      <td>4.7</td>\n",
       "      <td>1460-1580</td>\n",
       "      <td>33-35</td>\n",
       "      <td>1460.0</td>\n",
       "      <td>1580.0</td>\n",
       "      <td>33.0</td>\n",
       "      <td>35.0</td>\n",
       "    </tr>\n",
       "    <tr>\n",
       "      <th>0</th>\n",
       "      <td>Stanford University</td>\n",
       "      <td>Yes</td>\n",
       "      <td>2021</td>\n",
       "      <td>Stanford has adopted a one-year test optional ...</td>\n",
       "      <td>47452</td>\n",
       "      <td>4.3</td>\n",
       "      <td>1440-1570</td>\n",
       "      <td>32-35</td>\n",
       "      <td>1440.0</td>\n",
       "      <td>1570.0</td>\n",
       "      <td>32.0</td>\n",
       "      <td>35.0</td>\n",
       "    </tr>\n",
       "    <tr>\n",
       "      <th>2</th>\n",
       "      <td>Princeton University</td>\n",
       "      <td>Yes</td>\n",
       "      <td>2021</td>\n",
       "      <td>Princeton has adopted a one-year test optional...</td>\n",
       "      <td>35370</td>\n",
       "      <td>5.5</td>\n",
       "      <td>1440-1570</td>\n",
       "      <td>32-35</td>\n",
       "      <td>1440.0</td>\n",
       "      <td>1570.0</td>\n",
       "      <td>32.0</td>\n",
       "      <td>35.0</td>\n",
       "    </tr>\n",
       "    <tr>\n",
       "      <th>4</th>\n",
       "      <td>Yale University</td>\n",
       "      <td>Yes</td>\n",
       "      <td>2021</td>\n",
       "      <td>Yale has adopted a one-year test optional poli...</td>\n",
       "      <td>36844</td>\n",
       "      <td>6.1</td>\n",
       "      <td>1460-1570</td>\n",
       "      <td>33-35</td>\n",
       "      <td>1460.0</td>\n",
       "      <td>1570.0</td>\n",
       "      <td>33.0</td>\n",
       "      <td>35.0</td>\n",
       "    </tr>\n",
       "    <tr>\n",
       "      <th>6</th>\n",
       "      <td>Massachusetts Institute of Technology</td>\n",
       "      <td>Yes</td>\n",
       "      <td>2021</td>\n",
       "      <td>MIT has adopted a one-year test optional polic...</td>\n",
       "      <td>21706</td>\n",
       "      <td>6.7</td>\n",
       "      <td>1500-1570</td>\n",
       "      <td>34-36</td>\n",
       "      <td>1500.0</td>\n",
       "      <td>1570.0</td>\n",
       "      <td>34.0</td>\n",
       "      <td>36.0</td>\n",
       "    </tr>\n",
       "  </tbody>\n",
       "</table>\n",
       "</div>"
      ],
      "text/plain": [
       "                                  school are_tests_optional last_class_year  \\\n",
       "1                        Harvard College                Yes            2021   \n",
       "0                    Stanford University                Yes            2021   \n",
       "2                   Princeton University                Yes            2021   \n",
       "4                        Yale University                Yes            2021   \n",
       "6  Massachusetts Institute of Technology                Yes            2021   \n",
       "\n",
       "                                      policy_details  num_of_applicants  \\\n",
       "1  Harvard has adopted a one-year test optional p...              42749   \n",
       "0  Stanford has adopted a one-year test optional ...              47452   \n",
       "2  Princeton has adopted a one-year test optional...              35370   \n",
       "4  Yale has adopted a one-year test optional poli...              36844   \n",
       "6  MIT has adopted a one-year test optional polic...              21706   \n",
       "\n",
       "   acceptance_rate sat_total_middle_range act_total_middle_range  \\\n",
       "1              4.7              1460-1580                  33-35   \n",
       "0              4.3              1440-1570                  32-35   \n",
       "2              5.5              1440-1570                  32-35   \n",
       "4              6.1              1460-1570                  33-35   \n",
       "6              6.7              1500-1570                  34-36   \n",
       "\n",
       "   sat_25th_percentile  sat_75th_percentile  act_25th_percentile  \\\n",
       "1               1460.0               1580.0                 33.0   \n",
       "0               1440.0               1570.0                 32.0   \n",
       "2               1440.0               1570.0                 32.0   \n",
       "4               1460.0               1570.0                 33.0   \n",
       "6               1500.0               1570.0                 34.0   \n",
       "\n",
       "   act_75th_percentile  \n",
       "1                 35.0  \n",
       "0                 35.0  \n",
       "2                 35.0  \n",
       "4                 35.0  \n",
       "6                 36.0  "
      ]
     },
     "execution_count": 33,
     "metadata": {},
     "output_type": "execute_result"
    }
   ],
   "source": [
    "sat_act_college.sort_values(by = 'sat_75th_percentile', ascending=False).head() #sorts dataframe by mean reading/writing score and takes the top 5 highest"
   ]
  },
  {
   "cell_type": "markdown",
   "metadata": {},
   "source": [
    "**Top 5 schools based on SAT 75th percentile: Harvard, Stanford, Princeton, Yale, and MIT.** <br><br>"
   ]
  },
  {
   "cell_type": "code",
   "execution_count": 34,
   "metadata": {},
   "outputs": [
    {
     "data": {
      "text/html": [
       "<div>\n",
       "<style scoped>\n",
       "    .dataframe tbody tr th:only-of-type {\n",
       "        vertical-align: middle;\n",
       "    }\n",
       "\n",
       "    .dataframe tbody tr th {\n",
       "        vertical-align: top;\n",
       "    }\n",
       "\n",
       "    .dataframe thead th {\n",
       "        text-align: right;\n",
       "    }\n",
       "</style>\n",
       "<table border=\"1\" class=\"dataframe\">\n",
       "  <thead>\n",
       "    <tr style=\"text-align: right;\">\n",
       "      <th></th>\n",
       "      <th>school</th>\n",
       "      <th>are_tests_optional</th>\n",
       "      <th>last_class_year</th>\n",
       "      <th>policy_details</th>\n",
       "      <th>num_of_applicants</th>\n",
       "      <th>acceptance_rate</th>\n",
       "      <th>sat_total_middle_range</th>\n",
       "      <th>act_total_middle_range</th>\n",
       "      <th>sat_25th_percentile</th>\n",
       "      <th>sat_75th_percentile</th>\n",
       "      <th>act_25th_percentile</th>\n",
       "      <th>act_75th_percentile</th>\n",
       "    </tr>\n",
       "  </thead>\n",
       "  <tbody>\n",
       "    <tr>\n",
       "      <th>5</th>\n",
       "      <td>California Institute of Technology</td>\n",
       "      <td>Yes (TB)</td>\n",
       "      <td>2022</td>\n",
       "      <td>CalTech has adopted a two-year Test Blind poli...</td>\n",
       "      <td>8367</td>\n",
       "      <td>6.4</td>\n",
       "      <td>1530-1560</td>\n",
       "      <td>35-36</td>\n",
       "      <td>1530.0</td>\n",
       "      <td>1560.0</td>\n",
       "      <td>35.0</td>\n",
       "      <td>36.0</td>\n",
       "    </tr>\n",
       "    <tr>\n",
       "      <th>6</th>\n",
       "      <td>Massachusetts Institute of Technology</td>\n",
       "      <td>Yes</td>\n",
       "      <td>2021</td>\n",
       "      <td>MIT has adopted a one-year test optional polic...</td>\n",
       "      <td>21706</td>\n",
       "      <td>6.7</td>\n",
       "      <td>1500-1570</td>\n",
       "      <td>34-36</td>\n",
       "      <td>1500.0</td>\n",
       "      <td>1570.0</td>\n",
       "      <td>34.0</td>\n",
       "      <td>36.0</td>\n",
       "    </tr>\n",
       "    <tr>\n",
       "      <th>37</th>\n",
       "      <td>Carnegie Mellon University</td>\n",
       "      <td>Yes</td>\n",
       "      <td>2021</td>\n",
       "      <td>Carnegie Mellon has adopted a one-year test op...</td>\n",
       "      <td>27634</td>\n",
       "      <td>15.4</td>\n",
       "      <td>1460-1560</td>\n",
       "      <td>33-35</td>\n",
       "      <td>1460.0</td>\n",
       "      <td>1560.0</td>\n",
       "      <td>33.0</td>\n",
       "      <td>35.0</td>\n",
       "    </tr>\n",
       "    <tr>\n",
       "      <th>10</th>\n",
       "      <td>University of Pennsylvania</td>\n",
       "      <td>Yes</td>\n",
       "      <td>2021</td>\n",
       "      <td>UPenn has adopted a one-year test optional pol...</td>\n",
       "      <td>44961</td>\n",
       "      <td>7.7</td>\n",
       "      <td>1450-1560</td>\n",
       "      <td>33-35</td>\n",
       "      <td>1450.0</td>\n",
       "      <td>1560.0</td>\n",
       "      <td>33.0</td>\n",
       "      <td>35.0</td>\n",
       "    </tr>\n",
       "    <tr>\n",
       "      <th>20</th>\n",
       "      <td>Rice University</td>\n",
       "      <td>Yes</td>\n",
       "      <td>2021</td>\n",
       "      <td>Rice has adopted a one-year test optional poli...</td>\n",
       "      <td>20923</td>\n",
       "      <td>11.1</td>\n",
       "      <td>1450-1560</td>\n",
       "      <td>33-35</td>\n",
       "      <td>1450.0</td>\n",
       "      <td>1560.0</td>\n",
       "      <td>33.0</td>\n",
       "      <td>35.0</td>\n",
       "    </tr>\n",
       "  </tbody>\n",
       "</table>\n",
       "</div>"
      ],
      "text/plain": [
       "                                   school are_tests_optional last_class_year  \\\n",
       "5      California Institute of Technology           Yes (TB)            2022   \n",
       "6   Massachusetts Institute of Technology                Yes            2021   \n",
       "37             Carnegie Mellon University                Yes            2021   \n",
       "10             University of Pennsylvania                Yes            2021   \n",
       "20                        Rice University                Yes            2021   \n",
       "\n",
       "                                       policy_details  num_of_applicants  \\\n",
       "5   CalTech has adopted a two-year Test Blind poli...               8367   \n",
       "6   MIT has adopted a one-year test optional polic...              21706   \n",
       "37  Carnegie Mellon has adopted a one-year test op...              27634   \n",
       "10  UPenn has adopted a one-year test optional pol...              44961   \n",
       "20  Rice has adopted a one-year test optional poli...              20923   \n",
       "\n",
       "    acceptance_rate sat_total_middle_range act_total_middle_range  \\\n",
       "5               6.4              1530-1560                  35-36   \n",
       "6               6.7              1500-1570                  34-36   \n",
       "37             15.4              1460-1560                  33-35   \n",
       "10              7.7              1450-1560                  33-35   \n",
       "20             11.1              1450-1560                  33-35   \n",
       "\n",
       "    sat_25th_percentile  sat_75th_percentile  act_25th_percentile  \\\n",
       "5                1530.0               1560.0                 35.0   \n",
       "6                1500.0               1570.0                 34.0   \n",
       "37               1460.0               1560.0                 33.0   \n",
       "10               1450.0               1560.0                 33.0   \n",
       "20               1450.0               1560.0                 33.0   \n",
       "\n",
       "    act_75th_percentile  \n",
       "5                  36.0  \n",
       "6                  36.0  \n",
       "37                 35.0  \n",
       "10                 35.0  \n",
       "20                 35.0  "
      ]
     },
     "execution_count": 34,
     "metadata": {},
     "output_type": "execute_result"
    }
   ],
   "source": [
    "sat_act_college.sort_values(by = 'act_25th_percentile', ascending=False).head() #sorts dataframe by mean reading/writing score and takes the top 5 highest"
   ]
  },
  {
   "cell_type": "markdown",
   "metadata": {},
   "source": [
    "**Top 5 schools based on ACT 25th percentile: Cal Tech, MIT, CMU, UPenn, and Rice.** <br><br>"
   ]
  },
  {
   "cell_type": "code",
   "execution_count": 35,
   "metadata": {},
   "outputs": [
    {
     "data": {
      "text/html": [
       "<div>\n",
       "<style scoped>\n",
       "    .dataframe tbody tr th:only-of-type {\n",
       "        vertical-align: middle;\n",
       "    }\n",
       "\n",
       "    .dataframe tbody tr th {\n",
       "        vertical-align: top;\n",
       "    }\n",
       "\n",
       "    .dataframe thead th {\n",
       "        text-align: right;\n",
       "    }\n",
       "</style>\n",
       "<table border=\"1\" class=\"dataframe\">\n",
       "  <thead>\n",
       "    <tr style=\"text-align: right;\">\n",
       "      <th></th>\n",
       "      <th>school</th>\n",
       "      <th>are_tests_optional</th>\n",
       "      <th>last_class_year</th>\n",
       "      <th>policy_details</th>\n",
       "      <th>num_of_applicants</th>\n",
       "      <th>acceptance_rate</th>\n",
       "      <th>sat_total_middle_range</th>\n",
       "      <th>act_total_middle_range</th>\n",
       "      <th>sat_25th_percentile</th>\n",
       "      <th>sat_75th_percentile</th>\n",
       "      <th>act_25th_percentile</th>\n",
       "      <th>act_75th_percentile</th>\n",
       "    </tr>\n",
       "  </thead>\n",
       "  <tbody>\n",
       "    <tr>\n",
       "      <th>5</th>\n",
       "      <td>California Institute of Technology</td>\n",
       "      <td>Yes (TB)</td>\n",
       "      <td>2022</td>\n",
       "      <td>CalTech has adopted a two-year Test Blind poli...</td>\n",
       "      <td>8367</td>\n",
       "      <td>6.4</td>\n",
       "      <td>1530-1560</td>\n",
       "      <td>35-36</td>\n",
       "      <td>1530.0</td>\n",
       "      <td>1560.0</td>\n",
       "      <td>35.0</td>\n",
       "      <td>36.0</td>\n",
       "    </tr>\n",
       "    <tr>\n",
       "      <th>6</th>\n",
       "      <td>Massachusetts Institute of Technology</td>\n",
       "      <td>Yes</td>\n",
       "      <td>2021</td>\n",
       "      <td>MIT has adopted a one-year test optional polic...</td>\n",
       "      <td>21706</td>\n",
       "      <td>6.7</td>\n",
       "      <td>1500-1570</td>\n",
       "      <td>34-36</td>\n",
       "      <td>1500.0</td>\n",
       "      <td>1570.0</td>\n",
       "      <td>34.0</td>\n",
       "      <td>36.0</td>\n",
       "    </tr>\n",
       "    <tr>\n",
       "      <th>0</th>\n",
       "      <td>Stanford University</td>\n",
       "      <td>Yes</td>\n",
       "      <td>2021</td>\n",
       "      <td>Stanford has adopted a one-year test optional ...</td>\n",
       "      <td>47452</td>\n",
       "      <td>4.3</td>\n",
       "      <td>1440-1570</td>\n",
       "      <td>32-35</td>\n",
       "      <td>1440.0</td>\n",
       "      <td>1570.0</td>\n",
       "      <td>32.0</td>\n",
       "      <td>35.0</td>\n",
       "    </tr>\n",
       "    <tr>\n",
       "      <th>15</th>\n",
       "      <td>Northwestern University</td>\n",
       "      <td>Yes</td>\n",
       "      <td>2021</td>\n",
       "      <td>Northwestern has adopted a one-year test optio...</td>\n",
       "      <td>40585</td>\n",
       "      <td>9.1</td>\n",
       "      <td>1440-1550</td>\n",
       "      <td>33-35</td>\n",
       "      <td>1440.0</td>\n",
       "      <td>1550.0</td>\n",
       "      <td>33.0</td>\n",
       "      <td>35.0</td>\n",
       "    </tr>\n",
       "    <tr>\n",
       "      <th>44</th>\n",
       "      <td>Northeastern University</td>\n",
       "      <td>Yes</td>\n",
       "      <td>2021</td>\n",
       "      <td>Northeastern University has adopted a one-year...</td>\n",
       "      <td>62263</td>\n",
       "      <td>18.1</td>\n",
       "      <td>1390-1540</td>\n",
       "      <td>32-35</td>\n",
       "      <td>1390.0</td>\n",
       "      <td>1540.0</td>\n",
       "      <td>32.0</td>\n",
       "      <td>35.0</td>\n",
       "    </tr>\n",
       "  </tbody>\n",
       "</table>\n",
       "</div>"
      ],
      "text/plain": [
       "                                   school are_tests_optional last_class_year  \\\n",
       "5      California Institute of Technology           Yes (TB)            2022   \n",
       "6   Massachusetts Institute of Technology                Yes            2021   \n",
       "0                     Stanford University                Yes            2021   \n",
       "15                Northwestern University                Yes            2021   \n",
       "44                Northeastern University                Yes            2021   \n",
       "\n",
       "                                       policy_details  num_of_applicants  \\\n",
       "5   CalTech has adopted a two-year Test Blind poli...               8367   \n",
       "6   MIT has adopted a one-year test optional polic...              21706   \n",
       "0   Stanford has adopted a one-year test optional ...              47452   \n",
       "15  Northwestern has adopted a one-year test optio...              40585   \n",
       "44  Northeastern University has adopted a one-year...              62263   \n",
       "\n",
       "    acceptance_rate sat_total_middle_range act_total_middle_range  \\\n",
       "5               6.4              1530-1560                  35-36   \n",
       "6               6.7              1500-1570                  34-36   \n",
       "0               4.3              1440-1570                  32-35   \n",
       "15              9.1              1440-1550                  33-35   \n",
       "44             18.1              1390-1540                  32-35   \n",
       "\n",
       "    sat_25th_percentile  sat_75th_percentile  act_25th_percentile  \\\n",
       "5                1530.0               1560.0                 35.0   \n",
       "6                1500.0               1570.0                 34.0   \n",
       "0                1440.0               1570.0                 32.0   \n",
       "15               1440.0               1550.0                 33.0   \n",
       "44               1390.0               1540.0                 32.0   \n",
       "\n",
       "    act_75th_percentile  \n",
       "5                  36.0  \n",
       "6                  36.0  \n",
       "0                  35.0  \n",
       "15                 35.0  \n",
       "44                 35.0  "
      ]
     },
     "execution_count": 35,
     "metadata": {},
     "output_type": "execute_result"
    }
   ],
   "source": [
    "sat_act_college.sort_values(by = 'act_75th_percentile', ascending=False).head() #sorts dataframe by mean reading/writing score and takes the top 5 highest"
   ]
  },
  {
   "cell_type": "markdown",
   "metadata": {},
   "source": [
    "**Top 5 schools based on ACT 75th percentile: Cal Tech, MIT, Stanford, Northwestern, and Northeastern.** <br><br>"
   ]
  },
  {
   "cell_type": "code",
   "execution_count": 36,
   "metadata": {
    "tags": []
   },
   "outputs": [],
   "source": [
    "top_25 = sat_act_college.head(25) #represents the top 25 colleges based on acceptance rate (data was already ordered by \"acceptance_rate\")"
   ]
  },
  {
   "cell_type": "code",
   "execution_count": 37,
   "metadata": {
    "tags": []
   },
   "outputs": [
    {
     "data": {
      "text/html": [
       "<div>\n",
       "<style scoped>\n",
       "    .dataframe tbody tr th:only-of-type {\n",
       "        vertical-align: middle;\n",
       "    }\n",
       "\n",
       "    .dataframe tbody tr th {\n",
       "        vertical-align: top;\n",
       "    }\n",
       "\n",
       "    .dataframe thead th {\n",
       "        text-align: right;\n",
       "    }\n",
       "</style>\n",
       "<table border=\"1\" class=\"dataframe\">\n",
       "  <thead>\n",
       "    <tr style=\"text-align: right;\">\n",
       "      <th></th>\n",
       "      <th>num_of_applicants</th>\n",
       "      <th>acceptance_rate</th>\n",
       "      <th>sat_25th_percentile</th>\n",
       "      <th>sat_75th_percentile</th>\n",
       "      <th>act_25th_percentile</th>\n",
       "      <th>act_75th_percentile</th>\n",
       "    </tr>\n",
       "  </thead>\n",
       "  <tbody>\n",
       "    <tr>\n",
       "      <th>count</th>\n",
       "      <td>25.000000</td>\n",
       "      <td>25.000000</td>\n",
       "      <td>25.000000</td>\n",
       "      <td>25.000000</td>\n",
       "      <td>25.000000</td>\n",
       "      <td>25.000000</td>\n",
       "    </tr>\n",
       "    <tr>\n",
       "      <th>mean</th>\n",
       "      <td>30470.440000</td>\n",
       "      <td>8.472000</td>\n",
       "      <td>1421.600000</td>\n",
       "      <td>1550.800000</td>\n",
       "      <td>32.120000</td>\n",
       "      <td>34.800000</td>\n",
       "    </tr>\n",
       "    <tr>\n",
       "      <th>std</th>\n",
       "      <td>22165.350653</td>\n",
       "      <td>2.384939</td>\n",
       "      <td>63.487532</td>\n",
       "      <td>24.650896</td>\n",
       "      <td>1.615549</td>\n",
       "      <td>0.645497</td>\n",
       "    </tr>\n",
       "    <tr>\n",
       "      <th>min</th>\n",
       "      <td>6066.000000</td>\n",
       "      <td>4.300000</td>\n",
       "      <td>1270.000000</td>\n",
       "      <td>1480.000000</td>\n",
       "      <td>27.000000</td>\n",
       "      <td>33.000000</td>\n",
       "    </tr>\n",
       "    <tr>\n",
       "      <th>25%</th>\n",
       "      <td>10569.000000</td>\n",
       "      <td>6.700000</td>\n",
       "      <td>1390.000000</td>\n",
       "      <td>1540.000000</td>\n",
       "      <td>31.000000</td>\n",
       "      <td>35.000000</td>\n",
       "    </tr>\n",
       "    <tr>\n",
       "      <th>50%</th>\n",
       "      <td>32283.000000</td>\n",
       "      <td>8.800000</td>\n",
       "      <td>1440.000000</td>\n",
       "      <td>1560.000000</td>\n",
       "      <td>33.000000</td>\n",
       "      <td>35.000000</td>\n",
       "    </tr>\n",
       "    <tr>\n",
       "      <th>75%</th>\n",
       "      <td>40203.000000</td>\n",
       "      <td>10.600000</td>\n",
       "      <td>1460.000000</td>\n",
       "      <td>1570.000000</td>\n",
       "      <td>33.000000</td>\n",
       "      <td>35.000000</td>\n",
       "    </tr>\n",
       "    <tr>\n",
       "      <th>max</th>\n",
       "      <td>111322.000000</td>\n",
       "      <td>12.300000</td>\n",
       "      <td>1530.000000</td>\n",
       "      <td>1580.000000</td>\n",
       "      <td>35.000000</td>\n",
       "      <td>36.000000</td>\n",
       "    </tr>\n",
       "  </tbody>\n",
       "</table>\n",
       "</div>"
      ],
      "text/plain": [
       "       num_of_applicants  acceptance_rate  sat_25th_percentile  \\\n",
       "count          25.000000        25.000000            25.000000   \n",
       "mean        30470.440000         8.472000          1421.600000   \n",
       "std         22165.350653         2.384939            63.487532   \n",
       "min          6066.000000         4.300000          1270.000000   \n",
       "25%         10569.000000         6.700000          1390.000000   \n",
       "50%         32283.000000         8.800000          1440.000000   \n",
       "75%         40203.000000        10.600000          1460.000000   \n",
       "max        111322.000000        12.300000          1530.000000   \n",
       "\n",
       "       sat_75th_percentile  act_25th_percentile  act_75th_percentile  \n",
       "count            25.000000            25.000000            25.000000  \n",
       "mean           1550.800000            32.120000            34.800000  \n",
       "std              24.650896             1.615549             0.645497  \n",
       "min            1480.000000            27.000000            33.000000  \n",
       "25%            1540.000000            31.000000            35.000000  \n",
       "50%            1560.000000            33.000000            35.000000  \n",
       "75%            1570.000000            33.000000            35.000000  \n",
       "max            1580.000000            35.000000            36.000000  "
      ]
     },
     "execution_count": 37,
     "metadata": {},
     "output_type": "execute_result"
    }
   ],
   "source": [
    "top_25.describe()"
   ]
  },
  {
   "cell_type": "markdown",
   "metadata": {},
   "source": [
    "**Descriptive statistics for the top 25 schools based on acceptance rate.**<br><br>"
   ]
  },
  {
   "cell_type": "code",
   "execution_count": 38,
   "metadata": {},
   "outputs": [
    {
     "data": {
      "text/html": [
       "<div>\n",
       "<style scoped>\n",
       "    .dataframe tbody tr th:only-of-type {\n",
       "        vertical-align: middle;\n",
       "    }\n",
       "\n",
       "    .dataframe tbody tr th {\n",
       "        vertical-align: top;\n",
       "    }\n",
       "\n",
       "    .dataframe thead th {\n",
       "        text-align: right;\n",
       "    }\n",
       "</style>\n",
       "<table border=\"1\" class=\"dataframe\">\n",
       "  <thead>\n",
       "    <tr style=\"text-align: right;\">\n",
       "      <th></th>\n",
       "      <th>school</th>\n",
       "      <th>are_tests_optional</th>\n",
       "      <th>last_class_year</th>\n",
       "      <th>policy_details</th>\n",
       "      <th>num_of_applicants</th>\n",
       "      <th>acceptance_rate</th>\n",
       "      <th>sat_total_middle_range</th>\n",
       "      <th>act_total_middle_range</th>\n",
       "      <th>sat_25th_percentile</th>\n",
       "      <th>sat_75th_percentile</th>\n",
       "      <th>act_25th_percentile</th>\n",
       "      <th>act_75th_percentile</th>\n",
       "    </tr>\n",
       "  </thead>\n",
       "  <tbody>\n",
       "    <tr>\n",
       "      <th>8</th>\n",
       "      <td>University of Chicago</td>\n",
       "      <td>Yes</td>\n",
       "      <td>Permanent</td>\n",
       "      <td>UChicago offers a test optional policy which a...</td>\n",
       "      <td>32283</td>\n",
       "      <td>7.3</td>\n",
       "      <td>1490-1570</td>\n",
       "      <td>33-35</td>\n",
       "      <td>1490.0</td>\n",
       "      <td>1570.0</td>\n",
       "      <td>33.0</td>\n",
       "      <td>35.0</td>\n",
       "    </tr>\n",
       "    <tr>\n",
       "      <th>12</th>\n",
       "      <td>Bowdoin College</td>\n",
       "      <td>Yes</td>\n",
       "      <td>Permanent</td>\n",
       "      <td>Bowdoin College offers a test optional policy ...</td>\n",
       "      <td>9332</td>\n",
       "      <td>8.8</td>\n",
       "      <td>1330-1520</td>\n",
       "      <td>31-34</td>\n",
       "      <td>1330.0</td>\n",
       "      <td>1520.0</td>\n",
       "      <td>31.0</td>\n",
       "      <td>34.0</td>\n",
       "    </tr>\n",
       "    <tr>\n",
       "      <th>23</th>\n",
       "      <td>Bates College</td>\n",
       "      <td>Yes</td>\n",
       "      <td>Permanent</td>\n",
       "      <td>Bates offers a test optional policy which allo...</td>\n",
       "      <td>8222</td>\n",
       "      <td>12.1</td>\n",
       "      <td>1270-1480</td>\n",
       "      <td>29-33</td>\n",
       "      <td>1270.0</td>\n",
       "      <td>1480.0</td>\n",
       "      <td>29.0</td>\n",
       "      <td>33.0</td>\n",
       "    </tr>\n",
       "    <tr>\n",
       "      <th>28</th>\n",
       "      <td>Colby College</td>\n",
       "      <td>Yes</td>\n",
       "      <td>Permanent</td>\n",
       "      <td>Colby College offers a test optional policy wh...</td>\n",
       "      <td>12313</td>\n",
       "      <td>13.0</td>\n",
       "      <td>1350-1510</td>\n",
       "      <td>31-33</td>\n",
       "      <td>1350.0</td>\n",
       "      <td>1510.0</td>\n",
       "      <td>31.0</td>\n",
       "      <td>33.0</td>\n",
       "    </tr>\n",
       "    <tr>\n",
       "      <th>29</th>\n",
       "      <td>Pitzer College</td>\n",
       "      <td>Yes</td>\n",
       "      <td>Permanent</td>\n",
       "      <td>Pitzer offers a test optional policy which all...</td>\n",
       "      <td>4358</td>\n",
       "      <td>13.3</td>\n",
       "      <td>1340-1490</td>\n",
       "      <td>30-33</td>\n",
       "      <td>1340.0</td>\n",
       "      <td>1490.0</td>\n",
       "      <td>30.0</td>\n",
       "      <td>33.0</td>\n",
       "    </tr>\n",
       "  </tbody>\n",
       "</table>\n",
       "</div>"
      ],
      "text/plain": [
       "                   school are_tests_optional last_class_year  \\\n",
       "8   University of Chicago                Yes       Permanent   \n",
       "12        Bowdoin College                Yes       Permanent   \n",
       "23          Bates College                Yes       Permanent   \n",
       "28          Colby College                Yes       Permanent   \n",
       "29         Pitzer College                Yes       Permanent   \n",
       "\n",
       "                                       policy_details  num_of_applicants  \\\n",
       "8   UChicago offers a test optional policy which a...              32283   \n",
       "12  Bowdoin College offers a test optional policy ...               9332   \n",
       "23  Bates offers a test optional policy which allo...               8222   \n",
       "28  Colby College offers a test optional policy wh...              12313   \n",
       "29  Pitzer offers a test optional policy which all...               4358   \n",
       "\n",
       "    acceptance_rate sat_total_middle_range act_total_middle_range  \\\n",
       "8               7.3              1490-1570                  33-35   \n",
       "12              8.8              1330-1520                  31-34   \n",
       "23             12.1              1270-1480                  29-33   \n",
       "28             13.0              1350-1510                  31-33   \n",
       "29             13.3              1340-1490                  30-33   \n",
       "\n",
       "    sat_25th_percentile  sat_75th_percentile  act_25th_percentile  \\\n",
       "8                1490.0               1570.0                 33.0   \n",
       "12               1330.0               1520.0                 31.0   \n",
       "23               1270.0               1480.0                 29.0   \n",
       "28               1350.0               1510.0                 31.0   \n",
       "29               1340.0               1490.0                 30.0   \n",
       "\n",
       "    act_75th_percentile  \n",
       "8                  35.0  \n",
       "12                 34.0  \n",
       "23                 33.0  \n",
       "28                 33.0  \n",
       "29                 33.0  "
      ]
     },
     "execution_count": 38,
     "metadata": {},
     "output_type": "execute_result"
    }
   ],
   "source": [
    "permanent_test_optional = sat_act_college['last_class_year'] == 'Permanent' #isolates schools with permanent test-optional policies\n",
    "sat_act_college[permanent_test_optional].head(5) "
   ]
  },
  {
   "cell_type": "markdown",
   "metadata": {},
   "source": [
    "Mask showing schools that have a permanent test optional policy."
   ]
  },
  {
   "cell_type": "markdown",
   "metadata": {},
   "source": [
    "<br><br>\n",
    "\n",
    "----\n",
    "\n",
    "<br>\n",
    "\n",
    "## Visualizations<br>\n"
   ]
  },
  {
   "cell_type": "code",
   "execution_count": 39,
   "metadata": {},
   "outputs": [
    {
     "data": {
      "text/html": [
       "<div>\n",
       "<style scoped>\n",
       "    .dataframe tbody tr th:only-of-type {\n",
       "        vertical-align: middle;\n",
       "    }\n",
       "\n",
       "    .dataframe tbody tr th {\n",
       "        vertical-align: top;\n",
       "    }\n",
       "\n",
       "    .dataframe thead th {\n",
       "        text-align: right;\n",
       "    }\n",
       "</style>\n",
       "<table border=\"1\" class=\"dataframe\">\n",
       "  <thead>\n",
       "    <tr style=\"text-align: right;\">\n",
       "      <th></th>\n",
       "      <th>num_of_applicants</th>\n",
       "      <th>acceptance_rate</th>\n",
       "      <th>sat_25th_percentile</th>\n",
       "      <th>sat_75th_percentile</th>\n",
       "      <th>act_25th_percentile</th>\n",
       "      <th>act_75th_percentile</th>\n",
       "    </tr>\n",
       "  </thead>\n",
       "  <tbody>\n",
       "    <tr>\n",
       "      <th>num_of_applicants</th>\n",
       "      <td>1.000000</td>\n",
       "      <td>-0.318760</td>\n",
       "      <td>0.252431</td>\n",
       "      <td>0.254671</td>\n",
       "      <td>0.191129</td>\n",
       "      <td>0.215088</td>\n",
       "    </tr>\n",
       "    <tr>\n",
       "      <th>acceptance_rate</th>\n",
       "      <td>-0.318760</td>\n",
       "      <td>1.000000</td>\n",
       "      <td>-0.798352</td>\n",
       "      <td>-0.765868</td>\n",
       "      <td>-0.779196</td>\n",
       "      <td>-0.691157</td>\n",
       "    </tr>\n",
       "    <tr>\n",
       "      <th>sat_25th_percentile</th>\n",
       "      <td>0.252431</td>\n",
       "      <td>-0.798352</td>\n",
       "      <td>1.000000</td>\n",
       "      <td>0.959045</td>\n",
       "      <td>0.963363</td>\n",
       "      <td>0.916932</td>\n",
       "    </tr>\n",
       "    <tr>\n",
       "      <th>sat_75th_percentile</th>\n",
       "      <td>0.254671</td>\n",
       "      <td>-0.765868</td>\n",
       "      <td>0.959045</td>\n",
       "      <td>1.000000</td>\n",
       "      <td>0.943740</td>\n",
       "      <td>0.943053</td>\n",
       "    </tr>\n",
       "    <tr>\n",
       "      <th>act_25th_percentile</th>\n",
       "      <td>0.191129</td>\n",
       "      <td>-0.779196</td>\n",
       "      <td>0.963363</td>\n",
       "      <td>0.943740</td>\n",
       "      <td>1.000000</td>\n",
       "      <td>0.950323</td>\n",
       "    </tr>\n",
       "    <tr>\n",
       "      <th>act_75th_percentile</th>\n",
       "      <td>0.215088</td>\n",
       "      <td>-0.691157</td>\n",
       "      <td>0.916932</td>\n",
       "      <td>0.943053</td>\n",
       "      <td>0.950323</td>\n",
       "      <td>1.000000</td>\n",
       "    </tr>\n",
       "  </tbody>\n",
       "</table>\n",
       "</div>"
      ],
      "text/plain": [
       "                     num_of_applicants  acceptance_rate  sat_25th_percentile  \\\n",
       "num_of_applicants             1.000000        -0.318760             0.252431   \n",
       "acceptance_rate              -0.318760         1.000000            -0.798352   \n",
       "sat_25th_percentile           0.252431        -0.798352             1.000000   \n",
       "sat_75th_percentile           0.254671        -0.765868             0.959045   \n",
       "act_25th_percentile           0.191129        -0.779196             0.963363   \n",
       "act_75th_percentile           0.215088        -0.691157             0.916932   \n",
       "\n",
       "                     sat_75th_percentile  act_25th_percentile  \\\n",
       "num_of_applicants               0.254671             0.191129   \n",
       "acceptance_rate                -0.765868            -0.779196   \n",
       "sat_25th_percentile             0.959045             0.963363   \n",
       "sat_75th_percentile             1.000000             0.943740   \n",
       "act_25th_percentile             0.943740             1.000000   \n",
       "act_75th_percentile             0.943053             0.950323   \n",
       "\n",
       "                     act_75th_percentile  \n",
       "num_of_applicants               0.215088  \n",
       "acceptance_rate                -0.691157  \n",
       "sat_25th_percentile             0.916932  \n",
       "sat_75th_percentile             0.943053  \n",
       "act_25th_percentile             0.950323  \n",
       "act_75th_percentile             1.000000  "
      ]
     },
     "execution_count": 39,
     "metadata": {},
     "output_type": "execute_result"
    }
   ],
   "source": [
    "sat_act_college.corr()"
   ]
  },
  {
   "cell_type": "code",
   "execution_count": 40,
   "metadata": {},
   "outputs": [
    {
     "data": {
      "text/plain": [
       "<AxesSubplot:>"
      ]
     },
     "execution_count": 40,
     "metadata": {},
     "output_type": "execute_result"
    },
    {
     "data": {
      "image/png": "[encoded data removed]",
      "text/plain": [
       "<Figure size 432x288 with 2 Axes>"
      ]
     },
     "metadata": {
      "needs_background": "light"
     },
     "output_type": "display_data"
    }
   ],
   "source": [
    "sns.heatmap(sat_act_college.corr())"
   ]
  },
  {
   "cell_type": "markdown",
   "metadata": {},
   "source": [
    "<br>\n",
    "\n",
    "#### Counting Colleges based on their Last Application Year with a Test Optional Policy"
   ]
  },
  {
   "cell_type": "code",
   "execution_count": 41,
   "metadata": {},
   "outputs": [
    {
     "data": {
      "image/png": "[encoded data removed]",
      "text/plain": [
       "<Figure size 576x216 with 1 Axes>"
      ]
     },
     "metadata": {
      "needs_background": "light"
     },
     "output_type": "display_data"
    }
   ],
   "source": [
    "plt.figure(figsize=(8,3))\n",
    "sns.set_style(\"whitegrid\")\n",
    "ax = sns.countplot(x='last_class_year', data=sat_act_college, order=[2021, 2022,2023,2024,2025,'Permanent','N/A']).set(title='Last Application Year with a Test Optional Policy')\n",
    "\n",
    "fontdict = {'family': 'arial', #outlining font characteristics to use in the chart\n",
    "        'color':  'black',\n",
    "        'weight': 'semibold',\n",
    "        'size': 16,\n",
    "        }\n",
    "fontdict2 = {'family': 'arial',\n",
    "        'color':  'black',\n",
    "        'weight': 'semibold',\n",
    "        'size': 13,\n",
    "        }  \n",
    "      \n",
    "plt.title(\"Last Application Year with a Test Optional Policy (as of 2020)\", loc='center', fontdict=fontdict)\n",
    "plt.xticks(fontsize = 13)\n",
    "plt.yticks(fontsize = 13)\n",
    "plt.xlabel('Year', fontdict2)\n",
    "plt.ylabel('School Count', fontdict2);"
   ]
  },
  {
   "cell_type": "markdown",
   "metadata": {},
   "source": [
    "**Many schools' test optional policies lapse after 2021.**"
   ]
  },
  {
   "cell_type": "code",
   "execution_count": 42,
   "metadata": {},
   "outputs": [
    {
     "data": {
      "text/plain": [
       "2021         196\n",
       "Permanent    158\n",
       "N/A           26\n",
       "2023          15\n",
       "2022          11\n",
       "2024           9\n",
       "2025           1\n",
       "Name: last_class_year, dtype: int64"
      ]
     },
     "execution_count": 42,
     "metadata": {},
     "output_type": "execute_result"
    }
   ],
   "source": [
    "sat_act_college['last_class_year'].value_counts()"
   ]
  },
  {
   "cell_type": "code",
   "execution_count": 43,
   "metadata": {},
   "outputs": [
    {
     "data": {
      "text/plain": [
       "(416, 12)"
      ]
     },
     "execution_count": 43,
     "metadata": {},
     "output_type": "execute_result"
    }
   ],
   "source": [
    "sat_act_college.shape"
   ]
  },
  {
   "cell_type": "markdown",
   "metadata": {},
   "source": [
    "<br> \n",
    "\n",
    "#### Sat 25th Percentile by Acceptance Rate"
   ]
  },
  {
   "cell_type": "code",
   "execution_count": 44,
   "metadata": {},
   "outputs": [
    {
     "data": {
      "image/png": "[encoded data removed]",
      "text/plain": [
       "<Figure size 504x360 with 1 Axes>"
      ]
     },
     "metadata": {},
     "output_type": "display_data"
    }
   ],
   "source": [
    "plt.figure(figsize=(7,5))\n",
    "\n",
    "sns.regplot(x=sat_act_college[\"acceptance_rate\"]*100, #show acceptance rate as a percentage\n",
    "            y=sat_act_college[\"sat_25th_percentile\"], \n",
    "            line_kws={\"color\":\"chocolate\",\"alpha\":1,\"lw\":3});\n",
    "\n",
    "fontdict = {'family': 'arial', #outlining font characteristics to use in the chart\n",
    "        'color':  'black',\n",
    "        'weight': 'semibold',\n",
    "        'size': 16,\n",
    "        }\n",
    "fontdict2 = {'family': 'arial',\n",
    "        'color':  'black',\n",
    "        'weight': 'semibold',\n",
    "        'size': 13,\n",
    "        }  \n",
    "      \n",
    "plt.title(\"Acceptance Rate vs. SAT 25th Percentile Score\", loc='center', fontdict=fontdict)\n",
    "plt.xlabel('Acceptance Rate (%)', fontdict2)\n",
    "plt.ylabel('SAT Score', fontdict2);"
   ]
  },
  {
   "cell_type": "markdown",
   "metadata": {},
   "source": [
    "As selectivity decreases (acceptance rate increases), 25th percentile SAT score decreases.<br>"
   ]
  },
  {
   "cell_type": "markdown",
   "metadata": {},
   "source": [
    "#### Sat 75th Percentile by Acceptance Rate"
   ]
  },
  {
   "cell_type": "code",
   "execution_count": 45,
   "metadata": {},
   "outputs": [
    {
     "data": {
      "image/png": "[encoded data removed]",
      "text/plain": [
       "<Figure size 504x360 with 1 Axes>"
      ]
     },
     "metadata": {},
     "output_type": "display_data"
    }
   ],
   "source": [
    "plt.figure(figsize=(7,5))\n",
    "\n",
    "sns.regplot(x=sat_act_college[\"acceptance_rate\"]*100, #show acceptance rate as a percentage\n",
    "            y=sat_act_college[\"sat_75th_percentile\"], \n",
    "            line_kws={\"color\":\"chocolate\",\"alpha\":1,\"lw\":3});\n",
    "\n",
    "fontdict = {'family': 'arial', #outlining font characteristics to use in the chart\n",
    "        'color':  'black',\n",
    "        'weight': 'semibold',\n",
    "        'size': 16,\n",
    "        }\n",
    "fontdict2 = {'family': 'arial',\n",
    "        'color':  'black',\n",
    "        'weight': 'semibold',\n",
    "        'size': 13,\n",
    "        }  \n",
    "      \n",
    "plt.title(\"Acceptance Rate vs. SAT 75th Percentile Score\", loc='center', fontdict=fontdict)\n",
    "plt.xlabel('Acceptance Rate (%)', fontdict2)\n",
    "plt.ylabel('SAT Score', fontdict2);"
   ]
  },
  {
   "cell_type": "markdown",
   "metadata": {},
   "source": [
    "**As selectivity decreases (acceptance rate increases), 75th percentile SAT score decreases.**<br><br>"
   ]
  },
  {
   "cell_type": "markdown",
   "metadata": {},
   "source": [
    "#### ACT 25th Percentile by Acceptance Rate"
   ]
  },
  {
   "cell_type": "code",
   "execution_count": 46,
   "metadata": {
    "tags": []
   },
   "outputs": [
    {
     "data": {
      "image/png": "[encoded data removed]",
      "text/plain": [
       "<Figure size 504x360 with 1 Axes>"
      ]
     },
     "metadata": {},
     "output_type": "display_data"
    }
   ],
   "source": [
    "plt.figure(figsize=(7,5))\n",
    "\n",
    "sns.regplot(x=sat_act_college[\"acceptance_rate\"]*100, #show acceptance rate as a percentage\n",
    "            y=sat_act_college[\"act_25th_percentile\"], \n",
    "            line_kws={\"color\":\"chocolate\",\"alpha\":1,\"lw\":3});\n",
    "\n",
    "\n",
    "fontdict = {'family': 'arial', #outlining font characteristics to use in the chart\n",
    "        'color':  'black',\n",
    "        'weight': 'semibold',\n",
    "        'size': 16,\n",
    "        }\n",
    "fontdict2 = {'family': 'arial',\n",
    "        'color':  'black',\n",
    "        'weight': 'semibold',\n",
    "        'size': 13,\n",
    "        }  \n",
    "      \n",
    "plt.title(\"Acceptance Rate vs. ACT 25th Percentile Score\", loc='center', fontdict=fontdict)\n",
    "plt.xlabel('Acceptance Rate (%)', fontdict2)\n",
    "plt.ylabel('ACT Score', fontdict2);"
   ]
  },
  {
   "cell_type": "markdown",
   "metadata": {},
   "source": [
    "**As selectivity decreases (acceptance rate increases), 25th percentile ACT score decreases.**<br><br>"
   ]
  },
  {
   "cell_type": "markdown",
   "metadata": {},
   "source": [
    "#### ACT 75th Percentile by Acceptance Rate"
   ]
  },
  {
   "cell_type": "code",
   "execution_count": 47,
   "metadata": {},
   "outputs": [
    {
     "data": {
      "image/png": "[encoded data removed]",
      "text/plain": [
       "<Figure size 504x360 with 1 Axes>"
      ]
     },
     "metadata": {},
     "output_type": "display_data"
    }
   ],
   "source": [
    "plt.figure(figsize=(7,5))\n",
    "\n",
    "sns.regplot(x=sat_act_college[\"acceptance_rate\"]*100, #show acceptance rate as a percentage\n",
    "            y=sat_act_college[\"act_75th_percentile\"], \n",
    "            line_kws={\"color\":\"chocolate\",\"alpha\":1,\"lw\":3});\n",
    "\n",
    "\n",
    "fontdict = {'family': 'arial', #outlining font characteristics to use in the chart\n",
    "        'color':  'black',\n",
    "        'weight': 'semibold',\n",
    "        'size': 16,\n",
    "        }\n",
    "fontdict2 = {'family': 'arial',\n",
    "        'color':  'black',\n",
    "        'weight': 'semibold',\n",
    "        'size': 13,\n",
    "        }  \n",
    "      \n",
    "plt.title(\"Acceptance Rate vs. ACT 75th Percentile Score\", loc='center', fontdict=fontdict)\n",
    "plt.xlabel('Acceptance Rate (%)', fontdict2)\n",
    "plt.ylabel('ACT Score', fontdict2);"
   ]
  },
  {
   "cell_type": "markdown",
   "metadata": {},
   "source": [
    "**As selectivity decreases (acceptance rate increases), 75th percentile ACT score decreases.**<br><br>"
   ]
  },
  {
   "cell_type": "markdown",
   "metadata": {},
   "source": [
    "#### SAT and ACT ranges"
   ]
  },
  {
   "cell_type": "code",
   "execution_count": 48,
   "metadata": {},
   "outputs": [
    {
     "data": {
      "image/png": "[encoded data removed]",
      "text/plain": [
       "<Figure size 576x792 with 1 Axes>"
      ]
     },
     "metadata": {},
     "output_type": "display_data"
    }
   ],
   "source": [
    "plt.figure(figsize=(8,11))\n",
    "\n",
    "ordered_df = top_25.sort_values(by='acceptance_rate',ascending=False) #https://python-graph-gallery.com/184-lollipop-plot-with-2-groups\n",
    "my_range=range(0,len(top_25.index))\n",
    " \n",
    "\n",
    "plt.hlines(y=my_range, xmin=ordered_df['sat_25th_percentile'], \n",
    "           xmax=ordered_df['sat_75th_percentile'], \n",
    "           color='black', alpha=1) #setting up the lollipop chart\n",
    "\n",
    "plt.scatter(ordered_df['sat_25th_percentile'], my_range, \n",
    "            color='chocolate', alpha=1, \n",
    "            label='SAT 25th Percentile')\n",
    "\n",
    "plt.scatter(ordered_df['sat_75th_percentile'], my_range, \n",
    "            color='steelblue', alpha=1 , label='SAT 75th Percentile')\n",
    "\n",
    "plt.legend()\n",
    " \n",
    "fontdict = {'family': 'arial', #outlining font characteristics to use in the chart\n",
    "        'color':  'black',\n",
    "        'weight': 'semibold',\n",
    "        'size': 16,\n",
    "        }\n",
    "fontdict2 = {'family': 'arial',\n",
    "        'color':  'black',\n",
    "        'weight': 'semibold',\n",
    "        'size': 14,\n",
    "        }  \n",
    "    \n",
    "    \n",
    "\n",
    "plt.yticks(my_range, ordered_df['school'])\n",
    "plt.title(\"SAT Score 25th and 75th Percentiles by School\", loc='center', fontdict=fontdict)\n",
    "plt.xticks(fontsize = 12)\n",
    "plt.yticks(fontsize = 12)\n",
    "plt.xlabel('SAT Score', fontdict2)\n",
    "plt.ylabel('School', fontdict2);"
   ]
  },
  {
   "cell_type": "markdown",
   "metadata": {},
   "source": [
    "**Accepted SAT score ranges drop as selectivity drops.** <br><br>"
   ]
  },
  {
   "cell_type": "code",
   "execution_count": 49,
   "metadata": {},
   "outputs": [
    {
     "data": {
      "image/png": "[encoded data removed]",
      "text/plain": [
       "<Figure size 576x792 with 1 Axes>"
      ]
     },
     "metadata": {},
     "output_type": "display_data"
    }
   ],
   "source": [
    "plt.figure(figsize=(8,11))\n",
    "\n",
    "ordered_df = top_25.sort_values(by='acceptance_rate',ascending=False) #https://python-graph-gallery.com/184-lollipop-plot-with-2-groups\n",
    "my_range=range(0,len(top_25.index))\n",
    " \n",
    "\n",
    "plt.hlines(y=my_range, xmin=ordered_df['act_25th_percentile'], #setting up the lollipop chart\n",
    "           xmax=ordered_df['act_75th_percentile'], \n",
    "           color='black', alpha=1)\n",
    "\n",
    "plt.scatter(ordered_df['act_25th_percentile'], my_range, \n",
    "            color='chocolate', alpha=1, \n",
    "            label='ACT 25th Percentile')\n",
    "\n",
    "plt.scatter(ordered_df['act_75th_percentile'], my_range, \n",
    "            color='steelblue', alpha=1 , \n",
    "            label='ACT 75th Percentile')\n",
    "plt.legend()\n",
    " \n",
    "fontdict = {'family': 'arial', #outlining font characteristics to use in the chart\n",
    "        'color':  'black',\n",
    "        'weight': 'semibold',\n",
    "        'size': 16,\n",
    "        }\n",
    "fontdict2 = {'family': 'arial',\n",
    "        'color':  'black',\n",
    "        'weight': 'semibold',\n",
    "        'size': 14,\n",
    "        }  \n",
    "    \n",
    "    \n",
    "\n",
    "plt.yticks(my_range, ordered_df['school'])\n",
    "plt.title(\"ACT Score 25th and 75th Percentiles by School\", loc='center', fontdict=fontdict)\n",
    "plt.xticks(fontsize = 12)\n",
    "plt.yticks(fontsize = 12)\n",
    "plt.xlabel('ACT Score', fontdict2)\n",
    "plt.ylabel('School', fontdict2);"
   ]
  },
  {
   "cell_type": "markdown",
   "metadata": {},
   "source": [
    "**Accepted ACT score ranges drop as selectivity drops.** <br><br>"
   ]
  },
  {
   "cell_type": "markdown",
   "metadata": {},
   "source": [
    "#### Mean SAT Scores by Intended College Major"
   ]
  },
  {
   "cell_type": "code",
   "execution_count": 50,
   "metadata": {},
   "outputs": [
    {
     "data": {
      "image/png": "[encoded data removed]",
      "text/plain": [
       "<Figure size 576x792 with 1 Axes>"
      ]
     },
     "metadata": {},
     "output_type": "display_data"
    }
   ],
   "source": [
    "plt.figure(figsize=(8,11))\n",
    "\n",
    "ordered_df = sat_major.sort_values(by='total_score', ascending=True)[-25:] #https://python-graph-gallery.com/lollipop-plot/\n",
    "my_range=range(0,25)\n",
    "\n",
    "plt.hlines(y=ordered_df['intended_college_major'][:25], #pulling the top 25 most selective colleges\n",
    "           xmin=900, xmax=ordered_df['total_score'], \n",
    "           color='chocolate', alpha=1)\n",
    "\n",
    "plt.plot(ordered_df['total_score'], my_range, \"o\", \n",
    "         alpha=1,color='steelblue')\n",
    " \n",
    "fontdict = {'family': 'arial',\n",
    "        'color':  'black',\n",
    "        'weight': 'semibold',\n",
    "        'size': 16,\n",
    "        }\n",
    "fontdict2 = {'family': 'arial',\n",
    "        'color':  'black',\n",
    "        'weight': 'semibold',\n",
    "        'size': 14,\n",
    "        }  \n",
    "    \n",
    "plt.title(\"Mean SAT Scores by Intended College Major\", loc='center', fontdict=fontdict)\n",
    "plt.xticks(fontsize = 13)\n",
    "plt.yticks(fontsize = 13)\n",
    "plt.xlabel('Mean SAT Score', fontdict2)\n",
    "plt.ylabel('Intended College Major', fontdict2);"
   ]
  },
  {
   "cell_type": "markdown",
   "metadata": {},
   "source": [
    "**Students intending to pursue science-related majors tend to have higher total mean SAT scores.**"
   ]
  },
  {
   "cell_type": "markdown",
   "metadata": {
    "tags": []
   },
   "source": [
    "<br><br>\n",
    "\n",
    "----\n",
    "\n",
    "<br>\n",
    "\n",
    "## Conclusions and Recommendations<br>\n"
   ]
  },
  {
   "cell_type": "markdown",
   "metadata": {},
   "source": [
    "The main takeaways from my analyses are as follows:\n",
    "* **Testing is important** - over half of schools will not have a test-optional policy for the 2022 application cycle ([source](https://www.compassprep.com/college-profiles/)). This finding is based on data from 2021 and may have changed. Even with test-optional policies, some students may benefit from submitting their test scores.\n",
    "\n",
    "* **There is a strong negative correlation between test scores and school selectivity.** The more selective the school, the higher the accepted SAT and ACT scores, and vice versa ([source](https://www.compassprep.com/college-profiles/)).\n",
    "\n",
    "* **There is a relationship between field of study and test scores.** Students intending to pursue science-related majors generally have higher total mean scores. Therefore, test takers interested in those fields should aim for even higher SAT scores to remain competitive ([source](https://reports.collegeboard.org/pdf/2019-total-group-sat-suite-assessments-annual-report.pdf)). This takeaway is even more so directed at students applying to schools that also have selective science or engineering programs or tracks that incoming students apply to on top of general admission.\n"
   ]
  }
 ],
 "metadata": {
  "anaconda-cloud": {},
  "kernelspec": {
   "display_name": "Python 3 (ipykernel)",
   "language": "python",
   "name": "python3"
  },
  "language_info": {
   "codemirror_mode": {
    "name": "ipython",
    "version": 3
   },
   "file_extension": ".py",
   "mimetype": "text/x-python",
   "name": "python",
   "nbconvert_exporter": "python",
   "pygments_lexer": "ipython3",
   "version": "3.9.7"
  }
 },
 "nbformat": 4,
 "nbformat_minor": 4
}
